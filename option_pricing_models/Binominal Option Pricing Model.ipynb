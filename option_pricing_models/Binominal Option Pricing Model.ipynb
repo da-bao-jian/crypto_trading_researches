{
 "cells": [
  {
   "cell_type": "code",
   "execution_count": 1,
   "metadata": {},
   "outputs": [],
   "source": [
    "import math\n",
    "from datetime import datetime, date\n",
    "import numpy as np\n",
    "import matplotlib.pyplot as plt\n",
    "import pandas as pd\n",
    "from pandas import DataFrame"
   ]
  },
  {
   "cell_type": "code",
   "execution_count": 2,
   "metadata": {},
   "outputs": [],
   "source": [
    "def CRRubinstein_Tree (S,K,T,r,sigma,N, Option_type):\n",
    "    u=math.exp(sigma*math.sqrt(T/N));\n",
    "    d=math.exp(-sigma*math.sqrt(T/N));\n",
    "    pu=((math.exp(r*T/N))-d)/(u-d);\n",
    "    pd=1-pu;\n",
    "    disc=math.exp(-r*T/N);\n",
    "\n",
    "    St = [0] * (N+1)\n",
    "    C = [0] * (N+1)\n",
    "    \n",
    "    St[0]=S*d**N;\n",
    "    \n",
    "    for j in range(1, N+1): \n",
    "        St[j] = St[j-1] * u/d;\n",
    "    \n",
    "    for j in range(1, N+1):\n",
    "        if Option_type == 'P':\n",
    "            C[j] = max(K-St[j],0);\n",
    "        elif Option_type == 'C':\n",
    "            C[j] = max(St[j]-K,0);\n",
    "    \n",
    "    for i in range(N, 0, -1):\n",
    "        for j in range(0, i):\n",
    "            C[j] = disc*(pu*C[j+1]+pd*C[j]);\n",
    "            \n",
    "    return C[0]"
   ]
  }
 ],
 "metadata": {
  "kernelspec": {
   "display_name": "Python 3",
   "language": "python",
   "name": "python3"
  },
  "language_info": {
   "codemirror_mode": {
    "name": "ipython",
    "version": 3
   },
   "file_extension": ".py",
   "mimetype": "text/x-python",
   "name": "python",
   "nbconvert_exporter": "python",
   "pygments_lexer": "ipython3",
   "version": "3.8.3"
  }
 },
 "nbformat": 4,
 "nbformat_minor": 4
}
