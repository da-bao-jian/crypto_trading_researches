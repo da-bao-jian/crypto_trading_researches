{
 "metadata": {
  "language_info": {
   "codemirror_mode": {
    "name": "ipython",
    "version": 3
   },
   "file_extension": ".py",
   "mimetype": "text/x-python",
   "name": "python",
   "nbconvert_exporter": "python",
   "pygments_lexer": "ipython3",
   "version": "3.9.0-final"
  },
  "orig_nbformat": 2,
  "kernelspec": {
   "name": "python3",
   "display_name": "Python 3.9.0 64-bit",
   "metadata": {
    "interpreter": {
     "hash": "f9f85f796d01129d0dd105a088854619f454435301f6ffec2fea96ecbd9be4ac"
    }
   }
  }
 },
 "nbformat": 4,
 "nbformat_minor": 2,
 "cells": [
  {
   "cell_type": "code",
   "execution_count": 19,
   "metadata": {},
   "outputs": [
    {
     "output_type": "error",
     "ename": "AttributeError",
     "evalue": "module 'sys' has no attribute 'insert'",
     "traceback": [
      "\u001b[0;31m---------------------------------------------------------------------------\u001b[0m",
      "\u001b[0;31mAttributeError\u001b[0m                            Traceback (most recent call last)",
      "\u001b[0;32m<ipython-input-19-402cd25b9249>\u001b[0m in \u001b[0;36m<module>\u001b[0;34m\u001b[0m\n\u001b[1;32m      1\u001b[0m \u001b[0;32mimport\u001b[0m \u001b[0msys\u001b[0m\u001b[0;34m\u001b[0m\u001b[0;34m\u001b[0m\u001b[0m\n\u001b[0;32m----> 2\u001b[0;31m \u001b[0msys\u001b[0m\u001b[0;34m.\u001b[0m\u001b[0minsert\u001b[0m\u001b[0;34m(\u001b[0m\u001b[0;36m0\u001b[0m\u001b[0;34m,\u001b[0m \u001b[0;34m'/home/harry/trading_algo/crypto_trading_researches/strategy_backtests'\u001b[0m\u001b[0;34m)\u001b[0m\u001b[0;34m\u001b[0m\u001b[0;34m\u001b[0m\u001b[0m\n\u001b[0m\u001b[1;32m      3\u001b[0m \u001b[0;32mfrom\u001b[0m \u001b[0;34m.\u001b[0m\u001b[0mkeys\u001b[0m \u001b[0;32mimport\u001b[0m \u001b[0mFTX_API_KEY\u001b[0m\u001b[0;34m,\u001b[0m \u001b[0mFTX_API_SECRET\u001b[0m\u001b[0;34m\u001b[0m\u001b[0;34m\u001b[0m\u001b[0m\n\u001b[1;32m      4\u001b[0m \u001b[0;32mfrom\u001b[0m \u001b[0mdatetime\u001b[0m \u001b[0;32mimport\u001b[0m \u001b[0mdatetime\u001b[0m\u001b[0;34m\u001b[0m\u001b[0;34m\u001b[0m\u001b[0m\n\u001b[1;32m      5\u001b[0m \u001b[0;32mimport\u001b[0m \u001b[0mtime\u001b[0m\u001b[0;34m\u001b[0m\u001b[0;34m\u001b[0m\u001b[0m\n",
      "\u001b[0;31mAttributeError\u001b[0m: module 'sys' has no attribute 'insert'"
     ]
    }
   ],
   "source": [
    "\n",
    "from .keys import FTX_API_KEY, FTX_API_SECRET\n",
    "from datetime import datetime\n",
    "import time\n",
    "import hmac\n",
    "import pandas as pd\n",
    "from requests import Request, Session, Response\n",
    "from typing import Optional, Dict, Any, List\n",
    "\n",
    "\n",
    "class FtxClient:\n",
    "\n",
    "\n",
    "    def __init__(self, api_key=None, api_secret=None, subaccount_name=None):\n",
    "            self._session = Session()\n",
    "            self._api_key = api_key\n",
    "            self._api_secret = api_secret\n",
    "            self._subaccount_name = subaccount_name\n",
    "            self._ENDPOINT = 'https://ftx.com/api/'\n",
    "\n",
    "    def _get(self, path: str, params: Optional[Dict[str, Any]] = None) -> Any:\n",
    "            return self.send_request('GET', path, params=params)\n",
    "\n",
    "    def sign_request(self, request: Request):\n",
    "        ts = int(time.time() * 1000)\n",
    "        request = Request('GET', self._ENDPOINT)\n",
    "        prepared = request.prepare()\n",
    "        print(prepared)\n",
    "        signature_payload = f'{ts}{prepared.method}{prepared.path_url}'.encode()\n",
    "        signature = hmac.new(self._api_secret.encode(), signature_payload, 'sha256').hexdigest()\n",
    "\n",
    "        request.headers['FTX-KEY'] = self._api_key\n",
    "        request.headers['FTX-SIGN'] = signature\n",
    "        request.headers['FTX-TS'] = str(ts)\n",
    "\n",
    "    def send_request(self, method: str, path: str, **kwargs):\n",
    "        request = Request(method, self._ENDPOINT + path, **kwargs)\n",
    "        self.sign_request(request)\n",
    "        response = self._session.send(request.prepare())\n",
    "        return self._process_response(response)\n",
    "\n",
    "    def _process_response(self, response: Response):\n",
    "        try:\n",
    "            data = response.json()\n",
    "        except ValueError:\n",
    "            response.raise_for_status()\n",
    "            raise\n",
    "        else:\n",
    "            if not data['success']:\n",
    "                raise Exception(data['error'])\n",
    "            return data['result']\n",
    "    \n",
    "    def _get_all_trades(self, market: str, start_time: float = None, end_time: float = None):\n",
    "        ids = set()\n",
    "        limit = 100\n",
    "        results = []\n",
    "        while True:\n",
    "            response = self._get(f'markets/{market}/trades', {\n",
    "                'end_time': end_time,\n",
    "                'start_time': start_time,\n",
    "            })\n",
    "            deduped_trades = [r for r in response if r['id'] not in ids]\n",
    "            results.extend(deduped_trades)\n",
    "            ids |= {r['id'] for r in deduped_trades}\n",
    "            print(f'Adding {len(response)} trades with end time {end_time}')\n",
    "            if len(response) == 0:\n",
    "                break\n",
    "            end_time = min(parse_datetime(t['time']) for t in response).timestamp()\n",
    "            if len(response) < limit:\n",
    "                break\n",
    "        return results\n"
   ]
  },
  {
   "cell_type": "code",
   "execution_count": 20,
   "metadata": {},
   "outputs": [
    {
     "output_type": "execute_result",
     "data": {
      "text/plain": [
       "['/home/harry/trading_algo/crypto_trading_researches/strategy_backtests/notebooks',\n",
       " '/home/harry/.vscode-server/extensions/ms-toolsai.jupyter-2021.3.619093157/pythonFiles/vscode_datascience_helpers/../.does-not-exist',\n",
       " '/home/harry/.vscode-server/extensions/ms-toolsai.jupyter-2021.3.619093157/pythonFiles',\n",
       " '/home/harry/.vscode-server/extensions/ms-toolsai.jupyter-2021.3.619093157/pythonFiles/lib/python',\n",
       " '/usr/lib/python39.zip',\n",
       " '/usr/lib/python3.9',\n",
       " '/usr/lib/python3.9/lib-dynload',\n",
       " '',\n",
       " '/home/harry/.local/lib/python3.9/site-packages',\n",
       " '/usr/local/lib/python3.9/dist-packages',\n",
       " '/usr/lib/python3/dist-packages',\n",
       " '/home/harry/.local/lib/python3.9/site-packages/IPython/extensions',\n",
       " '/home/harry/.ipython']"
      ]
     },
     "metadata": {},
     "execution_count": 20
    }
   ],
   "source": [
    "import sys\n",
    "sys.path"
   ]
  },
  {
   "cell_type": "code",
   "execution_count": 2,
   "metadata": {
    "tags": []
   },
   "outputs": [
    {
     "output_type": "error",
     "ename": "NameError",
     "evalue": "name 'FtxClient' is not defined",
     "traceback": [
      "\u001b[0;31m---------------------------------------------------------------------------\u001b[0m",
      "\u001b[0;31mNameError\u001b[0m                                 Traceback (most recent call last)",
      "\u001b[0;32m<ipython-input-2-1cadfb645dd7>\u001b[0m in \u001b[0;36m<module>\u001b[0;34m\u001b[0m\n\u001b[1;32m      2\u001b[0m \u001b[0;34m\u001b[0m\u001b[0m\n\u001b[1;32m      3\u001b[0m \u001b[0;31m# dt = datetime(2021, 1, 1).timestamp()\u001b[0m\u001b[0;34m\u001b[0m\u001b[0;34m\u001b[0m\u001b[0;34m\u001b[0m\u001b[0m\n\u001b[0;32m----> 4\u001b[0;31m \u001b[0macc\u001b[0m \u001b[0;34m=\u001b[0m \u001b[0mFtxClient\u001b[0m\u001b[0;34m(\u001b[0m\u001b[0mapi_key\u001b[0m\u001b[0;34m=\u001b[0m\u001b[0mFTX_API_KEY\u001b[0m\u001b[0;34m,\u001b[0m \u001b[0mapi_secret\u001b[0m\u001b[0;34m=\u001b[0m\u001b[0mFTX_API_SECRET\u001b[0m\u001b[0;34m)\u001b[0m\u001b[0;34m\u001b[0m\u001b[0;34m\u001b[0m\u001b[0m\n\u001b[0m\u001b[1;32m      5\u001b[0m \u001b[0ma\u001b[0m\u001b[0;34m=\u001b[0m \u001b[0macc\u001b[0m\u001b[0;34m.\u001b[0m\u001b[0m_get\u001b[0m\u001b[0;34m(\u001b[0m\u001b[0;34m'futures'\u001b[0m\u001b[0;34m)\u001b[0m\u001b[0;34m\u001b[0m\u001b[0;34m\u001b[0m\u001b[0m\n\u001b[1;32m      6\u001b[0m \u001b[0;32mfor\u001b[0m \u001b[0mticker\u001b[0m \u001b[0;32min\u001b[0m \u001b[0ma\u001b[0m\u001b[0;34m:\u001b[0m\u001b[0;34m\u001b[0m\u001b[0;34m\u001b[0m\u001b[0m\n",
      "\u001b[0;31mNameError\u001b[0m: name 'FtxClient' is not defined"
     ]
    }
   ],
   "source": [
    "import json\n",
    "\n",
    "# dt = datetime(2021, 1, 1).timestamp()\n",
    "acc = FtxClient(api_key=FTX_API_KEY, api_secret=FTX_API_SECRET)\n",
    "a= acc._get('futures')\n",
    "for ticker in a: \n",
    "    print(ticker['underlying'])\n",
    "# res = acc.send_request('GET', 'markets/BTC-PERP/candles?resolution=15&limit=10')\n",
    "# all_trade = acc._get_all_trades('BTC-PERP', start_time='1559881511', end_time='1609477200')\n",
    "# df = pd.DataFrame(res)\n",
    "# print(df)"
   ]
  },
  {
   "cell_type": "code",
   "execution_count": 9,
   "metadata": {},
   "outputs": [
    {
     "output_type": "stream",
     "name": "stdout",
     "text": [
      "2021-03-07 00:00:01\n"
     ]
    }
   ],
   "source": [
    "from datetime import datetime\n",
    "\n",
    "dt = datetime(2021, 2, 1).timestamp()\n",
    "unix = datetime.fromtimestamp(1606798800)\n",
    "print(unix)"
   ]
  }
 ]
}