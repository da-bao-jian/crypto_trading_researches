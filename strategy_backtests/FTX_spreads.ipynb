{
 "metadata": {
  "language_info": {
   "codemirror_mode": {
    "name": "ipython",
    "version": 3
   },
   "file_extension": ".py",
   "mimetype": "text/x-python",
   "name": "python",
   "nbconvert_exporter": "python",
   "pygments_lexer": "ipython3",
   "version": "3.9.0-final"
  },
  "orig_nbformat": 2,
  "kernelspec": {
   "name": "python3",
   "display_name": "Python 3.9.0 64-bit",
   "metadata": {
    "interpreter": {
     "hash": "f9f85f796d01129d0dd105a088854619f454435301f6ffec2fea96ecbd9be4ac"
    }
   }
  }
 },
 "nbformat": 4,
 "nbformat_minor": 2,
 "cells": [
  {
   "cell_type": "code",
   "execution_count": 1,
   "metadata": {},
   "outputs": [],
   "source": [
    "from keys import FTX_API_KEY, FTX_API_SECRET\n",
    "from datetime import datetime\n",
    "import time\n",
    "import hmac\n",
    "import pandas as pd\n",
    "from requests import Request, Session, Response\n",
    "from typing import Optional, Dict, Any, List\n",
    "from utility_classes.historical_data_processor import FTXDataProcessor\n",
    "import dateutil.parser as dp\n"
   ]
  },
  {
   "source": [
    "## all non-expired futures tickers"
   ],
   "cell_type": "markdown",
   "metadata": {}
  },
  {
   "cell_type": "code",
   "execution_count": 7,
   "metadata": {
    "tags": []
   },
   "outputs": [
    {
     "output_type": "stream",
     "name": "stdout",
     "text": [
      "109\n1INCH\nCUSDT\nBTMX\nCAKE\nYFII\nCOMP\nALGO\nDMG\nUNISWAP\nLUNA\nMATIC\nONT\nAMPL\nBNB\nEXCH\nSNX\nBCH\nLINA\nLEO\nTRU\nFLOW\nDOT\nBAL\nAVAX\nAAVE\nEGLD\nKNC\nMID\nLRC\nSRM\nHOLY\nFIDA\nBAO\nLTC\nSXP\nQTUM\nZIL\nDEFI\nTRX\nBRZ\nTHETA\nRSR\nYFI\nXLM\nRUNE\nFLM\nSHIT\nETC\nKAVA\nZRX\nENJ\nREEF\nETH\nSECO\nDRGN\nSUSHI\nHNT\nBAT\nCHZ\nOMG\nBSV\nROOK\nMAPS\nUSDT\nKIN\nEOS\nADA\nNEAR\nPERP\nXRP\nCRV\nFTT\nMKR\nBAND\nATOM\nALT\nAR\nWAVES\nCREAM\nHT\nOKB\nTOMO\nKSM\nBTC\nRAY\nBNT\nOXY\nSOL\nBTT\nXAUT\nGRT\nPAXG\nMTA\nLINK\nVET\nZEC\nREN\nUNI\nNEO\nPRIV\nALPHA\nXTZ\nFTM\nXMR\nTRYB\nBADGER\nDOGE\nDASH\nFIL\n"
     ]
    }
   ],
   "source": [
    "import json\n",
    "\n",
    "acc = FTXDataProcessor(api_key=FTX_API_KEY, api_secret=FTX_API_SECRET)\n",
    "current_futures = acc.get_all_futures_tickers()\n",
    "for i in current_futures:\n",
    "    print(i)\n"
   ]
  },
  {
   "source": [
    "## getting all expired futures"
   ],
   "cell_type": "markdown",
   "metadata": {}
  },
  {
   "cell_type": "code",
   "execution_count": 3,
   "metadata": {
    "tags": []
   },
   "outputs": [
    {
     "output_type": "stream",
     "name": "stdout",
     "text": [
      "ETH-1225 December 2020 2020-12-25T03:00:00+00:00\nETH-0925 September 2020 2020-09-25T03:00:00+00:00\nETH-0626 June 2020 2020-06-26T03:00:00+00:00\nETH-20200327 March 2020 2020-03-27T03:00:00+00:00\nETH-20191227 December 2019 2019-12-27T03:00:00+00:00\nETH-20190927 September 2019 2019-09-27T03:00:00+00:00\nETH-20190628 June 2019 2019-06-28T03:00:00+00:00\nETH-20190329 March 2019 2019-03-29T03:00:00+00:00\n"
     ]
    }
   ],
   "source": [
    "expired_futures = acc._get('expired_futures')\n",
    "for ticker in expired_futures: \n",
    "    if ticker['underlying'] == 'ETH':\n",
    "        print(ticker['name'], ticker['expiryDescription'], ticker['expiry'])\n"
   ]
  },
  {
   "source": [
    "## all past futures expiration dates\n",
    "### to get past data requires correct date input \n",
    "### only futures data after 20190628 is available"
   ],
   "cell_type": "markdown",
   "metadata": {}
  },
  {
   "cell_type": "code",
   "execution_count": 4,
   "metadata": {},
   "outputs": [
    {
     "output_type": "stream",
     "name": "stdout",
     "text": [
      "expiration date: 1225 | Date December 2020\nexpiration date: 0925 | Date September 2020\nexpiration date: 0626 | Date June 2020\nexpiration date: 20200327 | Date March 2020\nexpiration date: 20191227 | Date December 2019\nexpiration date: 20190927 | Date September 2019\nexpiration date: 20190628 | Date June 2019\nexpiration date: 20190329 | Date March 2019\n"
     ]
    }
   ],
   "source": [
    "acc.get_expired_futures_dates()\n"
   ]
  },
  {
   "source": [
    "## specific expired futures data \n"
   ],
   "cell_type": "markdown",
   "metadata": {}
  },
  {
   "cell_type": "code",
   "execution_count": 5,
   "metadata": {
    "tags": []
   },
   "outputs": [
    {
     "output_type": "stream",
     "name": "stdout",
     "text": [
      "Adding 1648 candles with start time 2019-09-26 23:00:00\n",
      "Adding 1 candles with start time 2019-07-20 08:00:00\n",
      "                      timestamp    open    high     low   close     volume  \\\n",
      "0     2019-07-20T12:00:00+00:00  227.76  228.38  227.41  227.62    0.00000   \n",
      "1     2019-07-20T13:00:00+00:00  227.62  230.33  225.93  227.06    0.00000   \n",
      "2     2019-07-20T14:00:00+00:00  227.06  228.91  227.01  228.80    0.00000   \n",
      "3     2019-07-20T15:00:00+00:00  228.80  232.33  228.01  231.90    0.00000   \n",
      "4     2019-07-20T16:00:00+00:00  231.90  236.97  231.49  235.48    0.00000   \n",
      "...                         ...     ...     ...     ...     ...        ...   \n",
      "1643  2019-09-26T23:00:00+00:00  166.77  167.73  165.82  166.10    0.00000   \n",
      "1644  2019-09-27T00:00:00+00:00  166.10  166.71  164.19  164.34  198.98362   \n",
      "1645  2019-09-27T01:00:00+00:00  164.26  165.89  163.83  165.84  339.72944   \n",
      "1646  2019-09-27T02:00:00+00:00  165.81  165.95  164.33  165.05    0.00000   \n",
      "1647  2019-09-27T03:00:00+00:00  165.16  165.16  165.16  165.16    0.00000   \n",
      "\n",
      "      next_open  \n",
      "0        227.62  \n",
      "1        227.06  \n",
      "2        228.80  \n",
      "3        231.90  \n",
      "4        235.88  \n",
      "...         ...  \n",
      "1643     166.10  \n",
      "1644     164.26  \n",
      "1645     165.81  \n",
      "1646     165.16  \n",
      "1647        NaN  \n",
      "\n",
      "[1648 rows x 7 columns]\n"
     ]
    }
   ],
   "source": [
    "eth_hist_futures = acc.get_expired_futures_OHCL(market = 'ETH-20190927', resolution = 3600)\n",
    "print(eth_hist_futures)"
   ]
  }
 ]
}