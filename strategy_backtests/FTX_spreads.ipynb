{
 "metadata": {
  "language_info": {
   "codemirror_mode": {
    "name": "ipython",
    "version": 3
   },
   "file_extension": ".py",
   "mimetype": "text/x-python",
   "name": "python",
   "nbconvert_exporter": "python",
   "pygments_lexer": "ipython3",
   "version": "3.9.0-final"
  },
  "orig_nbformat": 2,
  "kernelspec": {
   "name": "python3",
   "display_name": "Python 3.9.0 64-bit",
   "metadata": {
    "interpreter": {
     "hash": "f9f85f796d01129d0dd105a088854619f454435301f6ffec2fea96ecbd9be4ac"
    }
   }
  }
 },
 "nbformat": 4,
 "nbformat_minor": 2,
 "cells": [
  {
   "cell_type": "code",
   "execution_count": 15,
   "metadata": {},
   "outputs": [],
   "source": [
    "\n",
    "from keys import FTX_API_KEY, FTX_API_SECRET\n",
    "from datetime import datetime\n",
    "import time\n",
    "import hmac\n",
    "import pandas as pd\n",
    "from requests import Request, Session, Response\n",
    "from typing import Optional, Dict, Any, List\n",
    "from utility_classes.historical_data_processor import FTXDataProcessor\n",
    "import dateutil.parser as dp\n",
    "\n",
    "\n"
   ]
  },
  {
   "source": [
    "## all non-expired futures tickers"
   ],
   "cell_type": "markdown",
   "metadata": {}
  },
  {
   "cell_type": "code",
   "execution_count": 2,
   "metadata": {
    "tags": []
   },
   "outputs": [
    {
     "output_type": "stream",
     "name": "stdout",
     "text": [
      "1INCH-PERP\n1INCH-0326\n1INCH-0625\nAAPL-0326\nAAPL-0625\nAAVE-PERP\nAAVE-0326\nAAVE-0625\nABNB-0326\nABNB-0625\nACB-0326\nACB-0625\nADA-PERP\nADA-0326\nADA-0625\nALGO-PERP\nALGO-0326\nALGO-0625\nALPHA-PERP\nALT-PERP\nALT-0326\nALT-0625\nAMC-0326\nAMC-0625\nAMD-0326\nAMD-0625\nAMPL-PERP\nAMZN-0326\nAMZN-0625\nAPHA-0326\nAPHA-0625\nAR-PERP\nARKK-0326\nARKK-0625\nATOM-PERP\nATOM-0326\nATOM-0625\nAVAX-PERP\nAVAX-0326\nAVAX-0625\nBABA-0326\nBABA-0625\nBADGER-PERP\nBAL-PERP\nBAL-0326\nBAL-0625\nBAND-PERP\nBAO-PERP\nBAT-PERP\nBB-0326\nBB-0625\nBCH-PERP\nBCH-0326\nBCH-0625\nBILI-0326\nBILI-0625\nBITW-0326\nBITW-0625\nBNB-PERP\nBNB-0326\nBNB-0625\nBNT-PERP\nBNTX-0326\nBNTX-0625\nBRZ-PERP\nBRZ-0326\nBRZ-0625\nBSV-PERP\nBSV-0326\nBSV-0625\nBTC-PERP\nBTC-MOVE-0321\nBTC-MOVE-0322\nBTC-0326\nBTC-MOVE-2021Q1\nBTC-MOVE-WK-0326\nBTC-MOVE-WK-0402\nBTC-MOVE-WK-0409\nBTC-MOVE-WK-0416\nBTC-0625\nBTC-MOVE-2021Q2\nBTC-0924\nBTC-MOVE-2021Q3\nBTC-1231\nBTC-HASH-2021Q1\nBTMX-PERP\nBTMX-0326\nBTMX-0625\nBTT-PERP\nBYND-0326\nBYND-0625\nCAKE-PERP\nCEL-0625\nCGC-0326\nCGC-0625\nCHZ-PERP\nCHZ-0326\nCHZ-0625\nCOMP-PERP\nCOMP-0326\nCOMP-0625\nCREAM-PERP\nCREAM-0326\nCREAM-0625\nCRON-0326\nCRON-0625\nCRV-PERP\nCUSDT-PERP\nDASH-PERP\nDEFI-PERP\nDEFI-0326\nDEFI-0625\nDMG-PERP\nDOGE-PERP\nDOGE-0326\nDOGE-0625\nDOT-PERP\nDOT-0326\nDOT-0625\nDRGN-PERP\nDRGN-0326\nDRGN-0625\nEGLD-PERP\nENJ-PERP\nEOS-PERP\nEOS-0326\nEOS-0625\nETC-PERP\nETH-PERP\nETH-0326\nETH-0625\nETH-0924\nETH-1231\nETHE-0326\nETHE-0625\nEXCH-PERP\nEXCH-0326\nEXCH-0625\nFB-0326\nFB-0625\nFIDA-PERP\nFIL-PERP\nFIL-0326\nFIL-0625\nFLM-PERP\nFLOW-PERP\nFTM-PERP\nFTT-PERP\nGBTC-0326\nGBTC-0625\nGDX-0326\nGDX-0625\nGDXJ-0326\nGDXJ-0625\nGLD-0326\nGLD-0625\nGME-0326\nGME-0625\nGOOGL-0326\nGOOGL-0625\nGRT-PERP\nGRT-0326\nGRT-0625\nHNT-PERP\nHOLY-PERP\nHT-PERP\nKAVA-PERP\nKIN-PERP\nKNC-PERP\nKSM-PERP\nLEND-0625\nLEO-PERP\nLINA-PERP\nLINK-PERP\nLINK-0326\nLINK-0625\nLRC-PERP\nLTC-PERP\nLTC-0326\nLTC-0625\nLUNA-PERP\nMAPS-PERP\nMATIC-PERP\nMID-PERP\nMID-0326\nMID-0625\nMKR-PERP\nMRNA-0326\nMRNA-0625\nMSTR-0326\nMSTR-0625\nMTA-PERP\nNEAR-PERP\nNEO-PERP\nNFLX-0326\nNFLX-0625\nNIO-0326\nNIO-0625\nNOK-0326\nNOK-0625\nNVDA-0326\nNVDA-0625\nOKB-PERP\nOKB-0326\nOKB-0625\nOLY2021\nOMG-PERP\nOMG-0326\nOMG-0625\nONT-PERP\nOXY-PERP\nPAXG-PERP\nPAXG-0326\nPAXG-0625\nPENN-0326\nPENN-0625\nPERP-PERP\nPFE-0326\nPFE-0625\nTRUMP2024\nPRIV-PERP\nPRIV-0326\nPRIV-0625\nPYPL-0326\nPYPL-0625\nQTUM-PERP\nRAY-PERP\nREEF-PERP\nREEF-0625\nREN-PERP\nROOK-PERP\nRSR-PERP\nRUNE-PERP\nSECO-PERP\nSHIT-PERP\nSHIT-0326\nSHIT-0625\nSLV-0326\nSLV-0625\nSNX-PERP\nSOL-PERP\nSOL-0326\nSOL-0625\nSPY-0326\nSPY-0625\nSQ-0326\nSQ-0625\nSRM-PERP\nNFC-SB-2021\nSUSHI-PERP\nSUSHI-0326\nSUSHI-0625\nSXP-PERP\nSXP-0326\nSXP-0625\nTHETA-PERP\nTHETA-0326\nTHETA-0625\nTLRY-0326\nTLRY-0625\nTOMO-PERP\nTRU-PERP\nTRU-0326\nTRU-0625\nTRX-PERP\nTRX-0326\nTRX-0625\nTRYB-PERP\nTRYB-0326\nTRYB-0625\nTSLA-0326\nTSLA-0625\nTSM-0326\nTSM-0625\nTWTR-0326\nTWTR-0625\nUBER-0326\nUBER-0625\nUNI-PERP\nUNI-0326\nUNI-0625\nUNISWAP-PERP\nUNISWAP-0326\nUNISWAP-0625\nUSDT-PERP\nUSDT-0326\nUSDT-0625\nUSO-0326\nUSO-0625\nVET-PERP\nWAVES-PERP\nWAVES-0326\nWAVES-0625\nWSB-0326\nWSB-0625\nXAUT-PERP\nXAUT-0326\nXAUT-0625\nXLM-PERP\nXMR-PERP\nXRP-PERP\nXRP-0326\nXRP-0625\nXTZ-PERP\nXTZ-0326\nXTZ-0625\nYFI-PERP\nYFI-0326\nYFI-0625\nYFII-PERP\nZEC-PERP\nZIL-PERP\nZM-0326\nZM-0625\nZRX-PERP\n"
     ]
    }
   ],
   "source": [
    "import json\n",
    "\n",
    "acc = FTXDataProcessor(api_key=FTX_API_KEY, api_secret=FTX_API_SECRET)\n",
    "current_futures = acc.get_all_futures_tickers()\n",
    "for i in current_futures:\n",
    "    print(i)\n"
   ]
  },
  {
   "source": [
    "## getting all expired futures"
   ],
   "cell_type": "markdown",
   "metadata": {}
  },
  {
   "cell_type": "code",
   "execution_count": 3,
   "metadata": {
    "tags": []
   },
   "outputs": [
    {
     "output_type": "stream",
     "name": "stdout",
     "text": [
      "ETH-1225 December 2020 2020-12-25T03:00:00+00:00\nETH-0925 September 2020 2020-09-25T03:00:00+00:00\nETH-0626 June 2020 2020-06-26T03:00:00+00:00\nETH-20200327 March 2020 2020-03-27T03:00:00+00:00\nETH-20191227 December 2019 2019-12-27T03:00:00+00:00\nETH-20190927 September 2019 2019-09-27T03:00:00+00:00\nETH-20190628 June 2019 2019-06-28T03:00:00+00:00\nETH-20190329 March 2019 2019-03-29T03:00:00+00:00\n"
     ]
    }
   ],
   "source": [
    "expired_futures = acc._get('expired_futures')\n",
    "for ticker in expired_futures: \n",
    "    if ticker['underlying'] == 'ETH':\n",
    "        print(ticker['name'], ticker['expiryDescription'], ticker['expiry'])\n"
   ]
  },
  {
   "source": [
    "## all past futures expiration dates\n",
    "### to get past data requires correct date input \n",
    "### only futures data after 20190628 is available"
   ],
   "cell_type": "markdown",
   "metadata": {}
  },
  {
   "cell_type": "code",
   "execution_count": 4,
   "metadata": {},
   "outputs": [
    {
     "output_type": "stream",
     "name": "stdout",
     "text": [
      "expiration date: 1225 | Date December 2020\nexpiration date: 0925 | Date September 2020\nexpiration date: 0626 | Date June 2020\nexpiration date: 20200327 | Date March 2020\nexpiration date: 20191227 | Date December 2019\nexpiration date: 20190927 | Date September 2019\nexpiration date: 20190628 | Date June 2019\nexpiration date: 20190329 | Date March 2019\n"
     ]
    }
   ],
   "source": [
    "acc.get_expired_futures_dates()\n"
   ]
  },
  {
   "source": [
    "## specific expired futures data \n",
    "### here, I'm using Ether for demo\n"
   ],
   "cell_type": "markdown",
   "metadata": {}
  },
  {
   "cell_type": "code",
   "execution_count": 27,
   "metadata": {
    "tags": []
   },
   "outputs": [
    {
     "output_type": "stream",
     "name": "stdout",
     "text": [
      "Adding 1648 candles with start time 2019-09-26 23:00:00\n",
      "Adding 1 candles with start time 2019-07-20 08:00:00\n",
      "                      timestamp    open    high     low   close     volume  \\\n",
      "0     2019-07-20T12:00:00+00:00  227.76  228.38  227.41  227.62    0.00000   \n",
      "1     2019-07-20T13:00:00+00:00  227.62  230.33  225.93  227.06    0.00000   \n",
      "2     2019-07-20T14:00:00+00:00  227.06  228.91  227.01  228.80    0.00000   \n",
      "3     2019-07-20T15:00:00+00:00  228.80  232.33  228.01  231.90    0.00000   \n",
      "4     2019-07-20T16:00:00+00:00  231.90  236.97  231.49  235.48    0.00000   \n",
      "...                         ...     ...     ...     ...     ...        ...   \n",
      "1643  2019-09-26T23:00:00+00:00  166.77  167.73  165.82  166.10    0.00000   \n",
      "1644  2019-09-27T00:00:00+00:00  166.10  166.71  164.19  164.34  198.98362   \n",
      "1645  2019-09-27T01:00:00+00:00  164.26  165.89  163.83  165.84  339.72944   \n",
      "1646  2019-09-27T02:00:00+00:00  165.81  165.95  164.33  165.05    0.00000   \n",
      "1647  2019-09-27T03:00:00+00:00  165.16  165.16  165.16  165.16    0.00000   \n",
      "\n",
      "      next_open  \n",
      "0        227.62  \n",
      "1        227.06  \n",
      "2        228.80  \n",
      "3        231.90  \n",
      "4        235.88  \n",
      "...         ...  \n",
      "1643     166.10  \n",
      "1644     164.26  \n",
      "1645     165.81  \n",
      "1646     165.16  \n",
      "1647        NaN  \n",
      "\n",
      "[1648 rows x 7 columns]\n"
     ]
    }
   ],
   "source": [
    "eth_hist_futures = acc.get_expired_futures_OHCL(market = 'ETH-20190927', resolution = 3600)\n",
    "print(eth_hist_futures)"
   ]
  }
 ]
}