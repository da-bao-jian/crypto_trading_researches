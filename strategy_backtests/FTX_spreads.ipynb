{
 "metadata": {
  "language_info": {
   "codemirror_mode": {
    "name": "ipython",
    "version": 3
   },
   "file_extension": ".py",
   "mimetype": "text/x-python",
   "name": "python",
   "nbconvert_exporter": "python",
   "pygments_lexer": "ipython3",
   "version": "3.9.0-final"
  },
  "orig_nbformat": 2,
  "kernelspec": {
   "name": "python3",
   "display_name": "Python 3.9.0 64-bit",
   "metadata": {
    "interpreter": {
     "hash": "f9f85f796d01129d0dd105a088854619f454435301f6ffec2fea96ecbd9be4ac"
    }
   }
  }
 },
 "nbformat": 4,
 "nbformat_minor": 2,
 "cells": [
  {
   "cell_type": "code",
   "execution_count": 2,
   "metadata": {},
   "outputs": [],
   "source": [
    "from keys import FTX_API_KEY, FTX_API_SECRET\n",
    "from datetime import datetime\n",
    "import time\n",
    "import hmac\n",
    "import pandas as pd\n",
    "from requests import Request, Session, Response\n",
    "from typing import Optional, Dict, Any, List\n",
    "from utility_classes.historical_data_processor import FTXDataProcessor\n",
    "import dateutil.parser as dp\n"
   ]
  },
  {
   "source": [
    "## all tokens that have PERPs"
   ],
   "cell_type": "markdown",
   "metadata": {}
  },
  {
   "cell_type": "code",
   "execution_count": 3,
   "metadata": {
    "tags": []
   },
   "outputs": [
    {
     "output_type": "stream",
     "name": "stdout",
     "text": [
      "['1INCH', 'AAVE', 'ADA', 'ALGO', 'ALPHA', 'ALT', 'AMPL', 'AR', 'ATOM', 'AVAX', 'BADGER', 'BAL', 'BAND', 'BAO', 'BAT', 'BCH', 'BNB', 'BNT', 'BRZ', 'BSV', 'BTC', 'BTMX', 'BTT', 'CAKE', 'CHZ', 'COMP', 'CREAM', 'CRV', 'CUSDT', 'DASH', 'DEFI', 'DMG', 'DOGE', 'DOT', 'DRGN', 'EGLD', 'ENJ', 'EOS', 'ETC', 'ETH', 'EXCH', 'FIDA', 'FIL', 'FLM', 'FLOW', 'FTM', 'FTT', 'GRT', 'HNT', 'HOLY', 'HT', 'KAVA', 'KIN', 'KNC', 'KSM', 'LEO', 'LINA', 'LINK', 'LRC', 'LTC', 'LUNA', 'MAPS', 'MATIC', 'MID', 'MKR', 'MTA', 'NEAR', 'NEO', 'OKB', 'OMG', 'ONT', 'OXY', 'PAXG', 'PERP', 'PRIV', 'QTUM', 'RAY', 'REEF', 'REN', 'ROOK', 'RSR', 'RUNE', 'SECO', 'SHIT', 'SNX', 'SOL', 'SRM', 'SUSHI', 'SXP', 'THETA', 'TOMO', 'TRU', 'TRX', 'TRYB', 'UNI', 'UNISWAP', 'USDT', 'VET', 'WAVES', 'XAUT', 'XLM', 'XMR', 'XRP', 'XTZ', 'YFI', 'YFII', 'ZEC', 'ZIL', 'ZRX']\n"
     ]
    }
   ],
   "source": [
    "import json\n",
    "\n",
    "acc = FTXDataProcessor(api_key=FTX_API_KEY, api_secret=FTX_API_SECRET)\n",
    "current_perp_futures = acc.get_all_perp_tickers()\n",
    "print(current_perp_futures)\n"
   ]
  },
  {
   "source": [
    "## getting all expired futures"
   ],
   "cell_type": "markdown",
   "metadata": {}
  },
  {
   "cell_type": "code",
   "execution_count": 4,
   "metadata": {
    "tags": [
     "outputPrepend"
    ]
   },
   "outputs": [
    {
     "output_type": "stream",
     "name": "stdout",
     "text": [
      "mber 2020\nAMZN-1225 December 2020\nUBER-1225 December 2020\nNVDA-1225 December 2020\nEOS-1225 December 2020\nBTMX-1225 December 2020\nLINK-1225 December 2020\nSOL-1225 December 2020\nMID-1225 December 2020\nDOT-1225 December 2020\nDMG-1225 December 2020\nBCH-1225 December 2020\nSUSHI-1225 December 2020\nTWTR-1225 December 2020\nBNB-1225 December 2020\nTLRY-1225 December 2020\nSPY-1225 December 2020\nBABA-1225 December 2020\nATOM-1225 December 2020\nMATIC-1225 December 2020\nOKB-1225 December 2020\nBAL-1225 December 2020\nSQ-1225 December 2020\nTOMO-1225 December 2020\nMRNA-1225 December 2020\nBSV-1225 December 2020\nRUNE-1225 December 2020\nABNB-1225 December 2020\nCREAM-1225 December 2020\nSHIT-1225 December 2020\nGOOGL-1225 December 2020\nBTC-HASH-2020Q4 2020 Q4\nDRGN-1225 December 2020\nUSDT-1225 December 2020\nTRYB-1225 December 2020\nBTC-1225 December 2020\nBTC-MOVE-1224 2020-12-24\nBTC-MOVE-1223 2020-12-23\nBTC-MOVE-1222 2020-12-22\nBTC-MOVE-1221 2020-12-21\nBTC-MOVE-1220 2020-12-20\nBTC-MOVE-1219 2020-12-19\nBTC-MOVE-1218 2020-12-18\nBTC-MOVE-WK-1218 2020-12-18\nBTC-MOVE-1217 2020-12-17\nBTC-MOVE-1216 2020-12-16\nBTC-MOVE-1215 2020-12-15\nBTC-MOVE-1214 2020-12-14\nBTC-MOVE-1213 2020-12-13\nBTC-MOVE-1212 2020-12-12\nBTC-MOVE-1211 2020-12-11\nBTC-MOVE-WK-1211 2020-12-11\nBTC-MOVE-1210 2020-12-10\nBTC-MOVE-1209 2020-12-09\nBTC-MOVE-1208 2020-12-08\nBTC-MOVE-1207 2020-12-07\nBTC-MOVE-1206 2020-12-06\nBTC-MOVE-1205 2020-12-05\nBTC-MOVE-1204 2020-12-04\nBTC-MOVE-WK-1204 2020-12-04\nBTC-MOVE-1203 2020-12-03\nBTC-MOVE-1202 2020-12-02\nBTC-MOVE-1201 2020-12-01\nBTC-MOVE-1130 2020-11-30\nBTC-MOVE-1129 2020-11-29\nBTC-MOVE-1128 2020-11-28\nBTC-MOVE-WK-1127 2020-11-27\nBTC-MOVE-1127 2020-11-27\nBTC-MOVE-1126 2020-11-26\nBTC-MOVE-1125 2020-11-25\nBTC-MOVE-1124 2020-11-24\nBTC-MOVE-1123 2020-11-23\nBTC-MOVE-1122 2020-11-22\nBTC-MOVE-1121 2020-11-21\nBTC-MOVE-1120 2020-11-20\nBTC-MOVE-WK-1120 2020-11-20\nBTC-MOVE-1119 2020-11-19\nBTC-MOVE-1118 2020-11-18\nBTC-MOVE-1117 2020-11-17\nBTC-MOVE-1116 2020-11-16\nBTC-MOVE-1115 2020-11-15\nBTC-MOVE-1114 2020-11-14\nBTC-MOVE-WK-1113 2020-11-13\nBTC-MOVE-1113 2020-11-13\nBTC-MOVE-1112 2020-11-12\nBTC-MOVE-1111 2020-11-11\nBTC-MOVE-1110 2020-11-10\nBTC-MOVE-1109 2020-11-09\nBTC-MOVE-1108 2020-11-08\nBTC-MOVE-1107 2020-11-07\nBTC-MOVE-WK-1106 2020-11-06\nBTC-MOVE-1106 2020-11-06\nBTC-MOVE-1105 2020-11-05\nBTC-MOVE-1104 2020-11-04\nBTC-MOVE-1103 2020-11-03\nBTC-MOVE-1102 2020-11-02\nOIL100-1026 2020-10-26\nBTC-MOVE-1101 2020-11-01\nBTC-MOVE-1031 2020-10-31\nBTC-MOVE-1030 2020-10-30\nBTC-MOVE-WK-1030 2020-10-30\nBTC-MOVE-1029 2020-10-29\nBTC-MOVE-1028 2020-10-28\nBTC-MOVE-1027 2020-10-27\nBTC-MOVE-1026 2020-10-26\nBTC-MOVE-1025 2020-10-25\nBTC-MOVE-1024 2020-10-24\nBTC-MOVE-1023 2020-10-23\nBTC-MOVE-WK-1023 2020-10-23\nBTC-MOVE-1022 2020-10-22\nBTC-MOVE-1021 2020-10-21\nBTC-MOVE-1020 2020-10-20\nBTC-MOVE-1019 2020-10-19\nBTC-MOVE-1018 2020-10-18\nBTC-MOVE-1017 2020-10-17\nBTC-MOVE-WK-1016 2020-10-16\nBTC-MOVE-1016 2020-10-16\nBTC-MOVE-1015 2020-10-15\nBTC-MOVE-1014 2020-10-14\nBTC-MOVE-1013 2020-10-13\nBTC-MOVE-1012 2020-10-12\nBTC-MOVE-1011 2020-10-11\nBTC-MOVE-1010 2020-10-10\nBTC-MOVE-1009 2020-10-09\nBTC-MOVE-WK-1009 2020-10-09\nBTC-MOVE-1008 2020-10-08\nBTC-MOVE-1007 2020-10-07\nBTC-MOVE-1006 2020-10-06\nBTC-MOVE-1005 2020-10-05\nBTC-MOVE-1004 2020-10-04\nBTC-MOVE-1003 2020-10-03\nBTC-MOVE-1002 2020-10-02\nBTC-MOVE-WK-1002 2020-10-02\nBTC-MOVE-1001 2020-10-01\nOIL100-0928 2020-09-28\nBTC-MOVE-0930 2020-09-30\nBTC-MOVE-0929 2020-09-29\nBTC-MOVE-0928 2020-09-28\nBTC-MOVE-0927 2020-09-27\nBTC-MOVE-0926 2020-09-26\nBTC-MOVE-0925 2020-09-25\nBTC-MOVE-WK-0925 2020-09-25\nMATIC-0925 September 2020\nRUNE-0925 September 2020\nBTMX-0925 September 2020\nHNT-0925 September 2020\nETC-0925 September 2020\nTRX-0925 September 2020\nCUSDT-0925 September 2020\nCOMP-0925 September 2020\nADA-0925 September 2020\nBRZ-0925 September 2020\nSUSHI-0925 September 2020\nXTZ-0925 September 2020\nMKR-0925 September 2020\nLEND-0925 September 2020\nZEC-0925 September 2020\nHT-0925 September 2020\nALGO-0925 September 2020\nLTC-0925 September 2020\nXRP-0925 September 2020\nSOL-0925 September 2020\nETH-0925 September 2020\nDRGN-0925 September 2020\nUSDT-0925 September 2020\nTOMO-0925 September 2020\nPRIV-0925 September 2020\nTHETA-0925 September 2020\nYFI-0925 September 2020\nBCH-0925 September 2020\nTRYB-0925 September 2020\nUNISWAP-0925 September 2020\nBNB-0925 September 2020\nPAXG-0925 September 2020\nKNC-0925 September 2020\nAVAX-0925 September 2020\nXAUT-0925 September 2020\nBTC-MOVE-2020Q3 2020 Q3\nEXCH-0925 September 2020\nCREAM-0925 September 2020\nDMG-0925 September 2020\nDOT-0925 September 2020\nBAL-0925 September 2020\nALT-0925 September 2020\nSHIT-0925 September 2020\nLINK-0925 September 2020\nOKB-0925 September 2020\nVET-0925 September 2020\nDOGE-0925 September 2020\nUNI-0925 September 2020\nATOM-0925 September 2020\nBTC-0925 September 2020\nLEO-0925 September 2020\nSXP-0925 September 2020\nEOS-0925 September 2020\nMTA-0925 September 2020\nDEFI-0925 September 2020\nMID-0925 September 2020\nBSV-0925 September 2020\nBTC-HASH-2020Q3 2020 Q3\nBTC-MOVE-0924 2020-09-24\nBTC-MOVE-0923 2020-09-23\nBTC-MOVE-0922 2020-09-22\nBTC-MOVE-0921 2020-09-21\nBTC-MOVE-0920 2020-09-20\nBTC-MOVE-0919 2020-09-19\nBTC-MOVE-0918 2020-09-18\nBTC-MOVE-WK-0918 2020-09-18\nBTC-MOVE-0917 2020-09-17\nBTC-MOVE-0916 2020-09-16\nBTC-MOVE-0915 2020-09-15\nBTC-MOVE-0914 2020-09-14\nBTC-MOVE-0913 2020-09-13\nBTC-MOVE-0912 2020-09-12\nBTC-MOVE-WK-0911 2020-09-11\nBTC-MOVE-0911 2020-09-11\nBTC-MOVE-0910 2020-09-10\nBTC-MOVE-0909 2020-09-09\nBTC-MOVE-0908 2020-09-08\nBTC-MOVE-0907 2020-09-07\nOIL100-0831 2020-08-31\nBTC-MOVE-0906 2020-09-06\nBTC-MOVE-0905 2020-09-05\nBTC-MOVE-WK-0904 2020-09-04\nBTC-MOVE-0904 2020-09-04\nBTC-MOVE-0903 2020-09-03\nBTC-MOVE-0902 2020-09-02\nBTC-MOVE-0901 2020-09-01\nBTC-MOVE-0831 2020-08-31\nBTC-MOVE-0830 2020-08-30\nBTC-MOVE-0829 2020-08-29\nBTC-MOVE-WK-0828 2020-08-28\nBTC-MOVE-0828 2020-08-28\nBTC-MOVE-0827 2020-08-27\nBTC-MOVE-0826 2020-08-26\nBTC-MOVE-0825 2020-08-25\nBTC-MOVE-0824 2020-08-24\nBTC-MOVE-0823 2020-08-23\nBTC-MOVE-0822 2020-08-22\nBTC-MOVE-0821 2020-08-21\nBTC-MOVE-WK-0821 2020-08-21\nDOTPRESPLIT-PERP Perpetual\nDOTPRESPLIT-0925 August 2020\nBTC-MOVE-0820 2020-08-20\nBTC-MOVE-0819 2020-08-19\nBTC-MOVE-0818 2020-08-18\nBTC-MOVE-0817 2020-08-17\nBTC-MOVE-0816 2020-08-16\nBTC-MOVE-0815 2020-08-15\nBTC-MOVE-0814 2020-08-14\nBTC-MOVE-WK-0814 2020-08-14\nBTC-MOVE-0813 2020-08-13\nBTC-MOVE-0812 2020-08-12\nBTC-MOVE-0811 2020-08-11\nBTC-MOVE-0810 2020-08-10\nBTC-MOVE-0809 2020-08-09\nBTC-MOVE-0808 2020-08-08\nBTC-MOVE-WK-0807 2020-08-07\nBTC-MOVE-0807 2020-08-07\nBTC-MOVE-0806 2020-08-06\nBTC-MOVE-0805 2020-08-05\nBTC-MOVE-0804 2020-08-04\nBTC-MOVE-0803 2020-08-03\nOIL100-0727 2020-07-27\nBTC-MOVE-0802 2020-08-02\nBTC-MOVE-0801 2020-08-01\nBTC-MOVE-0731 2020-07-31\nBTC-MOVE-WK-0731 2020-07-31\nBTC-MOVE-0730 2020-07-30\nBTC-MOVE-0729 2020-07-29\nBTC-MOVE-0728 2020-07-28\nBTC-MOVE-0727 2020-07-27\nBTC-MOVE-0726 2020-07-26\nBTC-MOVE-0725 2020-07-25\nBTC-MOVE-WK-0724 2020-07-24\nBTC-MOVE-0724 2020-07-24\nBTC-MOVE-0723 2020-07-23\nBTC-MOVE-0722 2020-07-22\nBTC-MOVE-0721 2020-07-21\nBTC-MOVE-0720 2020-07-20\nBTC-MOVE-0719 2020-07-19\nBTC-MOVE-0718 2020-07-18\nBTC-MOVE-0717 2020-07-17\nBTC-MOVE-WK-0717 2020-07-17\nBTC-MOVE-0716 2020-07-16\nBTC-MOVE-0715 2020-07-15\nBTC-MOVE-0714 2020-07-14\nBTC-MOVE-0713 2020-07-13\nBTC-MOVE-0712 2020-07-12\nBTC-MOVE-0711 2020-07-11\nBTC-MOVE-0710 2020-07-10\nBTC-MOVE-WK-0710 2020-07-10\nBTC-MOVE-0709 2020-07-09\nBTC-MOVE-0708 2020-07-08\nBTC-MOVE-0707 2020-07-07\nBTC-MOVE-0706 2020-07-06\nBTC-MOVE-0705 2020-07-05\nBTC-MOVE-0704 2020-07-04\nBTC-MOVE-0703 2020-07-03\nBTC-MOVE-WK-0703 2020-07-03\nBTC-MOVE-0702 2020-07-02\nBTC-MOVE-0701 2020-07-01\nOIL100-0629 2020-06-29\nBTC-MOVE-0630 2020-06-30\nBTC-MOVE-0629 2020-06-29\nBTC-MOVE-0628 2020-06-28\nBTC-MOVE-0627 2020-06-27\nBTC-MOVE-0626 2020-06-26\nBTC-MOVE-WK-0626 2020-06-26\nBTC-0626 June 2020\nBRZ-0626 June 2020\nXAUT-0626 June 2020\nDRGN-0626 June 2020\nBTC-MOVE-2020Q2 2020 Q2\nPAXG-0626 June 2020\nBTMX-0626 June 2020\nXRP-0626 June 2020\nLINK-0626 June 2020\nBCH-0626 June 2020\nSHIT-0626 June 2020\nTRX-0626 June 2020\nCOMP-0626 June 2020\nLTC-0626 June 2020\nMID-0626 June 2020\nMATIC-0626 June 2020\nTHETA-0626 June 2020\nBSV-0626 June 2020\nCUSDT-0626 June 2020\nETC-0626 June 2020\nADA-0626 June 2020\nALGO-0626 June 2020\nBAL-0626 June 2020\nUSDT-0626 June 2020\nMKR-0626 June 2020\nLEO-0626 June 2020\nDEFI-0626 June 2020\nXTZ-0626 June 2020\nEOS-0626 June 2020\nALT-0626 June 2020\nTOMO-0626 June 2020\nPRIV-0626 June 2020\nKNC-0626 June 2020\nHT-0626 June 2020\nEXCH-0626 June 2020\nTRYB-0626 June 2020\nATOM-0626 June 2020\nBNB-0626 June 2020\nOKB-0626 June 2020\nDOGE-0626 June 2020\nETH-0626 June 2020\nBTC-MOVE-0625 2020-06-25\nBTC-MOVE-0624 2020-06-24\nBTC-MOVE-0623 2020-06-23\nBTC-MOVE-0622 2020-06-22\nBTC-MOVE-0621 2020-06-21\nBTC-MOVE-0620 2020-06-20\nBTC-MOVE-WK-0619 2020-06-19\nBTC-MOVE-0619 2020-06-19\nBTC-MOVE-0618 2020-06-18\nBTC-MOVE-0617 2020-06-17\nBTC-MOVE-0616 2020-06-16\nBTC-MOVE-0615 2020-06-15\nBTC-MOVE-0614 2020-06-14\nBTC-MOVE-0613 2020-06-13\nBTC-MOVE-0612 2020-06-12\nBTC-MOVE-WK-0612 2020-06-12\nBTC-MOVE-0611 2020-06-11\nBTC-MOVE-0610 2020-06-10\nBTC-MOVE-0609 2020-06-09\nBTC-MOVE-0608 2020-06-08\nBTC-MOVE-0607 2020-06-07\nBTC-MOVE-0606 2020-06-06\nBTC-MOVE-WK-0605 2020-06-05\nBTC-MOVE-0605 2020-06-05\nBTC-MOVE-0604 2020-06-04\nBTC-MOVE-0603 2020-06-03\nBTC-MOVE-0602 2020-06-02\nBTC-MOVE-0601 2020-06-01\nBTC-MOVE-0531 2020-05-31\nBTC-MOVE-0530 2020-05-30\nBTC-MOVE-0529 2020-05-29\nBTC-MOVE-WK-0529 2020-05-29\nOIL100-0525 2020-05-25\nBTC-MOVE-0528 2020-05-28\nBTC-MOVE-0527 2020-05-27\nBTC-MOVE-0526 2020-05-26\nBTC-MOVE-0525 2020-05-25\nBTC-MOVE-0524 2020-05-24\nBTC-MOVE-0523 2020-05-23\nBTC-MOVE-0522 2020-05-22\nBTC-MOVE-WK-0522 2020-05-22\nBTC-MOVE-0521 2020-05-21\nBTC-MOVE-0520 2020-05-20\nBTC-MOVE-0519 2020-05-19\nBTC-MOVE-0518 2020-05-18\nBTC-MOVE-0517 2020-05-17\nBTC-MOVE-0516 2020-05-16\nBTC-MOVE-WK-0515 2020-05-15\nBTC-MOVE-0515 2020-05-15\nBTC-MOVE-0514 2020-05-14\nBTC-MOVE-0513 2020-05-13\nBTC-MOVE-0512 2020-05-12\nBTC-MOVE-0511 2020-05-11\nBTC-MOVE-0510 2020-05-10\nBTC-MOVE-0509 2020-05-09\nBTC-MOVE-0508 2020-05-08\nBTC-MOVE-WK-0508 2020-05-08\nBTC-MOVE-0507 2020-05-07\nBTC-MOVE-0506 2020-05-06\nBTC-MOVE-0505 2020-05-05\nBTC-MOVE-0504 2020-05-04\nBTC-MOVE-0503 2020-05-03\nBTC-MOVE-0502 2020-05-02\nBTC-MOVE-0501 2020-05-01\nBTC-MOVE-WK-0501 2020-05-01\nBTC-MOVE-0430 2020-04-30\nBTC-MOVE-0429 2020-04-29\nOIL100-0427 2020-04-27\nBTC-MOVE-0428 2020-04-28\nBTC-MOVE-0427 2020-04-27\nBTC-MOVE-0426 2020-04-26\nBTC-MOVE-0425 2020-04-25\nBTC-MOVE-WK-0424 2020-04-24\nBTC-MOVE-0424 2020-04-24\nBTC-MOVE-0423 2020-04-23\nBTC-MOVE-0422 2020-04-22\nBTC-MOVE-0421 2020-04-21\nBTC-MOVE-0420 2020-04-20\nBTC-MOVE-0419 2020-04-19\nBTC-MOVE-0418 2020-04-18\nBTC-MOVE-WK-0417 2020-04-17\nBTC-MOVE-0417 2020-04-17\nBTC-MOVE-0416 2020-04-16\nBTC-MOVE-0415 2020-04-15\nBTC-MOVE-0414 2020-04-14\nBTC-MOVE-0413 2020-04-13\nBTC-MOVE-0412 2020-04-12\nBTC-MOVE-0411 2020-04-11\nBTC-MOVE-WK-0410 2020-04-10\nBTC-MOVE-0410 2020-04-10\nBTC-MOVE-0409 2020-04-09\nBTC-MOVE-0408 2020-04-08\nBTC-MOVE-0407 2020-04-07\nBTC-MOVE-0406 2020-04-06\nBTC-MOVE-0405 2020-04-05\nBTC-MOVE-0404 2020-04-04\nBTC-MOVE-WK-0403 2020-04-03\nBTC-MOVE-0403 2020-04-03\nBTC-MOVE-0402 2020-04-02\nBTC-MOVE-0401 2020-04-01\nBTC-MOVE-20200331 2020-03-31\nBTC-MOVE-20200330 2020-03-30\nBTC-MOVE-20200329 2020-03-29\nBTC-MOVE-20200328 2020-03-28\nBTC-MOVE-20200327 2020-03-27\nBTC-MOVE-WK-20200327 2020-03-27\nHT-20200327 March 2020\nLTC-20200327 March 2020\nBSV-20200327 March 2020\nOKB-20200327 March 2020\nEXCH-20200327 March 2020\nTRYB-20200327 March 2020\nETC-20200327 March 2020\nBTC-20200327 March 2020\nLINK-20200327 March 2020\nDOGE-20200327 March 2020\nXTZ-20200327 March 2020\nMATIC-20200327 March 2020\nATOM-20200327 March 2020\nBNB-20200327 March 2020\nTOMO-20200327 March 2020\nDRGN-20200327 March 2020\nBTMX-20200327 March 2020\nPRIV-20200327 March 2020\nTRX-20200327 March 2020\nLEO-20200327 March 2020\nALT-20200327 March 2020\nBCH-20200327 March 2020\nXRP-20200327 March 2020\nMID-20200327 March 2020\nEOS-20200327 March 2020\nUSDT-20200327 March 2020\nBTC-MOVE-20202020Q1 2020 Q1\nALGO-20200327 March 2020\nETH-20200327 March 2020\nPAXG-20200327 March 2020\nXAUT-20200327 March 2020\nSHIT-20200327 March 2020\nADA-20200327 March 2020\nBTC-MOVE-20200326 2020-03-26\nBTC-MOVE-20200325 2020-03-25\nBTC-MOVE-20200324 2020-03-24\nBTC-MOVE-20200323 2020-03-23\nBTC-MOVE-20200322 2020-03-22\nBTC-MOVE-20200321 2020-03-21\nBTC-MOVE-WK-20200320 2020-03-20\nBTC-MOVE-20200320 2020-03-20\nBTC-MOVE-20200319 2020-03-19\nBTC-MOVE-20200318 2020-03-18\nBTC-MOVE-20200317 2020-03-17\nBTC-MOVE-20200316 2020-03-16\nBTC-MOVE-20200315 2020-03-15\nBTC-MOVE-20200314 2020-03-14\nBTC-MOVE-20200313 2020-03-13\nBTC-MOVE-WK-20200313 2020-03-13\nBTC-MOVE-20200312 2020-03-12\nBTC-MOVE-20200311 2020-03-11\nBTC-MOVE-20200310 2020-03-10\nBTC-MOVE-20200309 2020-03-09\nBTC-MOVE-20200308 2020-03-08\nBTC-MOVE-20200307 2020-03-07\nBTC-MOVE-20200306 2020-03-06\nBTC-MOVE-WK-20200306 2020-03-06\nBTC-MOVE-20200305 2020-03-05\nBTC-MOVE-20200304 2020-03-04\nBTC-MOVE-20200303 2020-03-03\nBTC-MOVE-20200302 2020-03-02\nBTC-MOVE-20200301 2020-03-01\nBTC-MOVE-20200229 2020-02-29\nBTC-MOVE-WK-20200228 2020-02-28\nBTC-MOVE-20200228 2020-02-28\nBTC-MOVE-20200227 2020-02-27\nBTC-MOVE-20200226 2020-02-26\nBTC-MOVE-20200225 2020-02-25\nBTC-MOVE-20200224 2020-02-24\nBTC-MOVE-20200223 2020-02-23\nBTC-MOVE-20200222 2020-02-22\nBTC-MOVE-WK-20200221 2020-02-21\nBTC-MOVE-20200221 2020-02-21\nBTC-MOVE-20200220 2020-02-20\nBTC-MOVE-20200219 2020-02-19\nBTC-MOVE-20200218 2020-02-18\nBTC-MOVE-20200217 2020-02-17\nBTC-MOVE-20200216 2020-02-16\nBTC-MOVE-20200215 2020-02-15\nBTC-MOVE-WK-20200214 2020-02-14\nBTC-MOVE-20200214 2020-02-14\nBTC-MOVE-20200213 2020-02-13\nBTC-MOVE-20200212 2020-02-12\nBTC-MOVE-20200211 2020-02-11\nBTC-MOVE-20200210 2020-02-10\nBTC-MOVE-20200209 2020-02-09\nBTC-MOVE-20200208 2020-02-08\nBTC-MOVE-20200207 2020-02-07\nBTC-MOVE-WK-20200207 2020-02-07\nBTC-MOVE-20200206 2020-02-06\nBTC-MOVE-20200205 2020-02-05\nBTC-MOVE-20200204 2020-02-04\nBTC-MOVE-20200203 2020-02-03\nBTC-MOVE-20200202 2020-02-02\nBTC-MOVE-20200201 2020-02-01\nBTC-MOVE-20200131 2020-01-31\nBTC-MOVE-WK-20200131 2020-01-31\nBTC-MOVE-20200130 2020-01-30\nBTC-MOVE-20200129 2020-01-29\nBTC-MOVE-20200128 2020-01-28\nBTC-MOVE-20200127 2020-01-27\nBTC-MOVE-20200126 2020-01-26\nBTC-MOVE-20200125 2020-01-25\nBTC-MOVE-20200124 2020-01-24\nBTC-MOVE-WK-20200124 2020-01-24\nBTC-MOVE-20200123 2020-01-23\nBTC-MOVE-20200122 2020-01-22\nBTC-MOVE-20200121 2020-01-21\nBTC-MOVE-20200120 2020-01-20\nBTC-MOVE-20200119 2020-01-19\nBTC-MOVE-20200118 2020-01-18\nBTC-MOVE-WK-20200117 2020-01-17\nBTC-MOVE-20200117 2020-01-17\nBTC-MOVE-20200116 2020-01-16\nBTC-MOVE-20200115 2020-01-15\nBTC-MOVE-20200114 2020-01-14\nBTC-MOVE-20200113 2020-01-13\nBTC-MOVE-20200112 2020-01-12\nBTC-MOVE-20200111 2020-01-11\nBTC-MOVE-WK-20200110 2020-01-10\nBTC-MOVE-20200110 2020-01-10\nBTC-MOVE-20200109 2020-01-09\nBTC-MOVE-20200108 2020-01-08\nBTC-MOVE-20200107 2020-01-07\nBTC-MOVE-20200106 2020-01-06\nBTC-MOVE-20200105 2020-01-05\nBTC-MOVE-20200104 2020-01-04\nBTC-MOVE-20200103 2020-01-03\nBTC-MOVE-WK-20200103 2020-01-03\nBTC-MOVE-20200102 2020-01-02\nBTC-MOVE-20200101 2020-01-01\nBTC-MOVE-20191231 2019-12-31\nBTC-MOVE-20191230 2019-12-30\nBTC-MOVE-20191229 2019-12-29\nBTC-MOVE-20191228 2019-12-28\nBTC-MOVE-WK-20191227 2019-12-27\nBTC-MOVE-20191227 2019-12-27\nBSV-20191227 December 2019\nTOMO-20191227 December 2019\nALGO-20191227 December 2019\nTRYB-20191227 December 2019\nADA-20191227 December 2019\nMATIC-20191227 December 2019\nTRX-20191227 December 2019\nLINK-20191227 December 2019\nLEO-20191227 December 2019\nDRGN-20191227 December 2019\nLTC-20191227 December 2019\nBNB-20191227 December 2019\nDOGE-20191227 December 2019\nHT-20191227 December 2019\nEOS-20191227 December 2019\nOKB-20191227 December 2019\nBTMX-20191227 December 2019\nBTC-20191227 December 2019\nALT-20191227 December 2019\nETC-20191227 December 2019\nXTZ-20191227 December 2019\nXRP-20191227 December 2019\nSHIT-20191227 December 2019\nATOM-20191227 December 2019\nBTC-MOVE-2019Q4 2019 Q4\nUSDT-20191227 December 2019\nETH-20191227 December 2019\nMID-20191227 December 2019\nEXCH-20191227 December 2019\nBCH-20191227 December 2019\nBTC-MOVE-20191226 2019-12-26\nBTC-MOVE-20191225 2019-12-25\nBTC-MOVE-20191224 2019-12-24\nBTC-MOVE-20191223 2019-12-23\nBTC-MOVE-20191222 2019-12-22\nBTC-MOVE-20191221 2019-12-21\nBTC-MOVE-20191220 2019-12-20\nBTC-MOVE-WK-20191220 2019-12-20\nBTC-MOVE-20191219 2019-12-19\nBTC-MOVE-20191218 2019-12-18\nBTC-MOVE-20191217 2019-12-17\nBTC-MOVE-20191216 2019-12-16\nBTC-MOVE-20191215 2019-12-15\nBTC-MOVE-20191214 2019-12-14\nBTC-MOVE-WK-20191213 2019-12-13\nBTC-MOVE-20191213 2019-12-13\nBTC-MOVE-20191212 2019-12-12\nBTC-MOVE-20191211 2019-12-11\nBTC-MOVE-20191210 2019-12-10\nBTC-MOVE-20191209 2019-12-09\nBTC-MOVE-20191208 2019-12-08\nBTC-MOVE-20191207 2019-12-07\nBTC-MOVE-WK-20191206 2019-12-06\nBTC-MOVE-20191206 2019-12-06\nBTC-MOVE-20191205 2019-12-05\nBTC-MOVE-20191204 2019-12-04\nBTC-MOVE-20191203 2019-12-03\nBTC-MOVE-20191202 2019-12-02\nBTC-MOVE-20191201 2019-12-01\nBTC-MOVE-20191130 2019-11-30\nBTC-MOVE-20191129 2019-11-29\nBTC-MOVE-WK-20191129 2019-11-29\nBTC-MOVE-20191128 2019-11-28\nBTC-MOVE-20191127 2019-11-27\nBTC-MOVE-20191126 2019-11-26\nBTC-MOVE-20191125 2019-11-25\nBTC-MOVE-20191124 2019-11-24\nBTC-MOVE-20191123 2019-11-23\nBTC-MOVE-20191122 2019-11-22\nBTC-MOVE-WK-20191122 2019-11-22\nBTC-MOVE-20191121 2019-11-21\nBTC-MOVE-20191120 2019-11-20\nBTC-MOVE-20191119 2019-11-19\nBTC-MOVE-20191118 2019-11-18\nBTC-MOVE-20191117 2019-11-17\nBTC-MOVE-20191116 2019-11-16\nBTC-MOVE-20191115 2019-11-15\nBTC-MOVE-WK-20191115 2019-11-15\nBTC-MOVE-20191114 2019-11-14\nBTC-MOVE-20191113 2019-11-13\nBTC-MOVE-20191112 2019-11-12\nBTC-MOVE-20191111 2019-11-11\nBTC-MOVE-20191110 2019-11-10\nBTC-MOVE-20191109 2019-11-09\nBTC-MOVE-20191108 2019-11-08\nBTC-MOVE-20191107 2019-11-07\nBTC-MOVE-20191106 2019-11-06\nBTC-MOVE-20191105 2019-11-05\nBTC-MOVE-20191104 2019-11-04\nBTC-MOVE-20191103 2019-11-03\nBTC-MOVE-20191102 2019-11-02\nBTC-MOVE-20191101 2019-11-01\nBTC-MOVE-20191031 2019-10-31\nBTC-MOVE-20191030 2019-10-30\nBTC-MOVE-20191029 2019-10-29\nBTC-MOVE-20191028 2019-10-28\nBTC-MOVE-20191027 2019-10-27\nBTC-MOVE-20191026 2019-10-26\nBTC-MOVE-20191025 2019-10-25\nBTC-MOVE-20191024 2019-10-24\nBTC-MOVE-20191023 2019-10-23\nBTC-MOVE-20191022 2019-10-22\nBTC-MOVE-20191021 2019-10-21\nBTC-MOVE-20191020 2019-10-20\nBTC-MOVE-20191019 2019-10-19\nBTC-MOVE-20191018 2019-10-18\nBTC-MOVE-20191017 2019-10-17\nBTC-MOVE-20191016 2019-10-16\nBTC-MOVE-20191015 2019-10-15\nBTC-MOVE-20191014 2019-10-14\nBTC-MOVE-20191013 2019-10-13\nBTC-MOVE-20191012 2019-10-12\nBTC-MOVE-20191011 2019-10-11\nBTC-MOVE-20191010 2019-10-10\nBTC-MOVE-20191009 2019-10-09\nBTC-MOVE-20191008 2019-10-08\nBTC-MOVE-20191007 2019-10-07\nBTC-MOVE-20191006 2019-10-06\nBTC-MOVE-20191005 2019-10-05\nBTC-MOVE-20191004 2019-10-04\nBTC-MOVE-20191003 2019-10-03\nBTC-MOVE-20191002 2019-10-02\nBTC-MOVE-20191001 2019-10-01\nBTC-MOVE-20190930 2019-09-30\nBTC-MOVE-20190929 2019-09-29\nBTC-MOVE-20190928 2019-09-28\nBTC-MOVE-20190927 2019-09-27\nBCH-20190927 September 2019\nHT-20190927 September 2019\nDOGE-20190927 September 2019\nUSDT-20190927 September 2019\nOKB-20190927 September 2019\nALT-20190927 September 2019\nSHIT-20190927 September 2019\nLEO-20190927 September 2019\nTRX-20190927 September 2019\nLTC-20190927 September 2019\nEOS-20190927 September 2019\nETC-20190927 September 2019\nBNB-20190927 September 2019\nBSV-20190927 September 2019\nALGO-20190927 September 2019\nMID-20190927 September 2019\nETH-20190927 September 2019\nBTC-20190927 September 2019\nEXCH-20190927 September 2019\nXRP-20190927 September 2019\nBTC-MOVE-20190926 2019-09-26\nBTC-MOVE-20190925 2019-09-25\nBCH-20190628 June 2019\nSHIT-20190628 June 2019\nEOS-20190628 June 2019\nXRP-20190628 June 2019\nBTC-20190628 June 2019\nLEO-20190628 June 2019\nHT-20190628 June 2019\nBSV-20190628 June 2019\nALGO-20190628 June 2019\nMID-20190628 June 2019\nTRX-20190628 June 2019\nUSDT-20190628 June 2019\nETH-20190628 June 2019\nOKB-20190628 June 2019\nBNB-20190628 June 2019\nALT-20190628 June 2019\nLTC-20190628 June 2019\nUSDT-20190329 March 2019\nBTC-20190329 March 2019\nETH-20190329 March 2019\nTRX-20190329 March 2019\nBNB-20190329 March 2019\nBCH-20190329 March 2019\nALGO-20190329 March 2019\nLEO-20190329 March 2019\nXRP-20190329 March 2019\nEOS-20190329 March 2019\n"
     ]
    }
   ],
   "source": [
    "expired_futures = acc._get('expired_futures')\n",
    "for ticker in expired_futures: \n",
    "    print(ticker['name'], ticker['expiryDescription'])\n"
   ]
  },
  {
   "source": [
    "## all past futures expiration dates\n",
    "### to get past data requires correct date input \n",
    "### only futures data after 20190628 is available"
   ],
   "cell_type": "markdown",
   "metadata": {}
  },
  {
   "cell_type": "code",
   "execution_count": 5,
   "metadata": {},
   "outputs": [
    {
     "output_type": "stream",
     "name": "stdout",
     "text": [
      "expiration date: 1225 | Date December 2020\nexpiration date: 0925 | Date September 2020\nexpiration date: 0626 | Date June 2020\nexpiration date: 20200327 | Date March 2020\nexpiration date: 20191227 | Date December 2019\nexpiration date: 20190927 | Date September 2019\nexpiration date: 20190628 | Date June 2019\nexpiration date: 20190329 | Date March 2019\n"
     ]
    }
   ],
   "source": [
    "acc.get_expired_futures_dates()\n"
   ]
  },
  {
   "source": [
    "## specific expired futures data \n"
   ],
   "cell_type": "markdown",
   "metadata": {}
  },
  {
   "cell_type": "code",
   "execution_count": 6,
   "metadata": {
    "tags": []
   },
   "outputs": [
    {
     "output_type": "stream",
     "name": "stdout",
     "text": [
      "Adding 1648 candles with start time 2019-09-26 23:00:00\n",
      "Adding 1 candles with start time 2019-07-20 08:00:00\n",
      "                      timestamp    open    high     low   close     volume  \\\n",
      "0     2019-07-20T12:00:00+00:00  227.76  228.38  227.41  227.62    0.00000   \n",
      "1     2019-07-20T13:00:00+00:00  227.62  230.33  225.93  227.06    0.00000   \n",
      "2     2019-07-20T14:00:00+00:00  227.06  228.91  227.01  228.80    0.00000   \n",
      "3     2019-07-20T15:00:00+00:00  228.80  232.33  228.01  231.90    0.00000   \n",
      "4     2019-07-20T16:00:00+00:00  231.90  236.97  231.49  235.48    0.00000   \n",
      "...                         ...     ...     ...     ...     ...        ...   \n",
      "1643  2019-09-26T23:00:00+00:00  166.77  167.73  165.82  166.10    0.00000   \n",
      "1644  2019-09-27T00:00:00+00:00  166.10  166.71  164.19  164.34  198.98362   \n",
      "1645  2019-09-27T01:00:00+00:00  164.26  165.89  163.83  165.84  339.72944   \n",
      "1646  2019-09-27T02:00:00+00:00  165.81  165.95  164.33  165.05    0.00000   \n",
      "1647  2019-09-27T03:00:00+00:00  165.16  165.16  165.16  165.16    0.00000   \n",
      "\n",
      "      next_open  \n",
      "0        227.62  \n",
      "1        227.06  \n",
      "2        228.80  \n",
      "3        231.90  \n",
      "4        235.88  \n",
      "...         ...  \n",
      "1643     166.10  \n",
      "1644     164.26  \n",
      "1645     165.81  \n",
      "1646     165.16  \n",
      "1647        NaN  \n",
      "\n",
      "[1648 rows x 7 columns]\n"
     ]
    }
   ],
   "source": [
    "eth_hist_futures = acc.get_expired_futures_OHCL(market = 'ETH-20190927', resolution = 3600)\n",
    "print(eth_hist_futures)"
   ]
  },
  {
   "cell_type": "code",
   "execution_count": 7,
   "metadata": {
    "tags": []
   },
   "outputs": [
    {
     "output_type": "stream",
     "name": "stdout",
     "text": [
      "Adding 5001 candles with start time 2020-12-24 22:00:00\n",
      "Adding 5001 candles with start time 2020-12-21 10:40:00\n",
      "Adding 5001 candles with start time 2020-12-17 23:20:00\n",
      "Adding 5001 candles with start time 2020-12-14 12:00:00\n",
      "Adding 5001 candles with start time 2020-12-11 00:40:00\n",
      "Adding 5001 candles with start time 2020-12-07 13:20:00\n",
      "Adding 5001 candles with start time 2020-12-04 02:00:00\n",
      "Adding 5001 candles with start time 2020-11-30 14:40:00\n",
      "Adding 5001 candles with start time 2020-11-27 03:20:00\n",
      "Adding 5001 candles with start time 2020-11-23 16:00:00\n",
      "Adding 5001 candles with start time 2020-11-20 04:40:00\n",
      "Adding 5001 candles with start time 2020-11-16 17:20:00\n",
      "Adding 5001 candles with start time 2020-11-13 06:00:00\n",
      "Adding 4997 candles with start time 2020-11-09 18:40:00\n",
      "Adding 5001 candles with start time 2020-11-06 07:20:00\n",
      "Adding 5001 candles with start time 2020-11-02 20:00:00\n",
      "Adding 5001 candles with start time 2020-10-30 09:40:00\n",
      "Adding 5000 candles with start time 2020-10-26 22:20:00\n",
      "Adding 4989 candles with start time 2020-10-23 11:00:00\n",
      "Adding 5001 candles with start time 2020-10-19 23:40:00\n",
      "Adding 5001 candles with start time 2020-10-16 12:20:00\n",
      "Adding 4998 candles with start time 2020-10-13 01:00:00\n",
      "Adding 5001 candles with start time 2020-10-09 13:40:00\n",
      "Adding 5001 candles with start time 2020-10-06 02:20:00\n",
      "Adding 5001 candles with start time 2020-10-02 15:00:00\n",
      "Adding 5001 candles with start time 2020-09-29 03:40:00\n",
      "Adding 5001 candles with start time 2020-09-25 16:20:00\n",
      "Adding 5001 candles with start time 2020-09-22 05:00:00\n",
      "Adding 5001 candles with start time 2020-09-18 17:40:00\n",
      "Adding 5001 candles with start time 2020-09-15 06:20:00\n",
      "Adding 261 candles with start time 2020-09-11 19:00:00\n",
      "Adding 1 candles with start time 2020-09-11 14:40:00\n",
      "Adding 5001 candles with start time 2020-12-24 22:00:00\n",
      "Adding 5001 candles with start time 2020-12-21 10:40:00\n",
      "Adding 5001 candles with start time 2020-12-17 23:20:00\n",
      "Adding 5001 candles with start time 2020-12-14 12:00:00\n",
      "Adding 5001 candles with start time 2020-12-11 00:40:00\n",
      "Adding 5001 candles with start time 2020-12-07 13:20:00\n",
      "Adding 5001 candles with start time 2020-12-04 02:00:00\n",
      "Adding 5001 candles with start time 2020-11-30 14:40:00\n",
      "Adding 5001 candles with start time 2020-11-27 03:20:00\n",
      "Adding 5001 candles with start time 2020-11-23 16:00:00\n",
      "Adding 5001 candles with start time 2020-11-20 04:40:00\n",
      "Adding 5001 candles with start time 2020-11-16 17:20:00\n",
      "Adding 5001 candles with start time 2020-11-13 06:00:00\n",
      "Adding 4997 candles with start time 2020-11-09 18:40:00\n",
      "Adding 5001 candles with start time 2020-11-06 07:20:00\n",
      "Adding 5001 candles with start time 2020-11-02 20:00:00\n",
      "Adding 5001 candles with start time 2020-10-30 09:40:00\n",
      "Adding 5000 candles with start time 2020-10-26 22:20:00\n",
      "Adding 4778 candles with start time 2020-10-23 11:00:00\n",
      "Adding 5001 candles with start time 2020-10-19 23:40:00\n",
      "Adding 5001 candles with start time 2020-10-16 12:20:00\n"
     ]
    },
    {
     "output_type": "error",
     "ename": "KeyboardInterrupt",
     "evalue": "",
     "traceback": [
      "\u001b[0;31m---------------------------------------------------------------------------\u001b[0m",
      "\u001b[0;31mKeyboardInterrupt\u001b[0m                         Traceback (most recent call last)",
      "\u001b[0;32m<ipython-input-7-471c13459b97>\u001b[0m in \u001b[0;36m<module>\u001b[0;34m\u001b[0m\n\u001b[0;32m----> 1\u001b[0;31m \u001b[0macc\u001b[0m\u001b[0;34m.\u001b[0m\u001b[0mwrite_all_expired_futures_OHCL\u001b[0m\u001b[0;34m(\u001b[0m\u001b[0mpath\u001b[0m\u001b[0;34m=\u001b[0m\u001b[0;34m'/home/harry/trading_algo/crypto_trading_researches/strategy_backtests/historical_data'\u001b[0m\u001b[0;34m)\u001b[0m\u001b[0;34m\u001b[0m\u001b[0;34m\u001b[0m\u001b[0m\n\u001b[0m",
      "\u001b[0;32m~/trading_algo/crypto_trading_researches/strategy_backtests/utility_classes/historical_data_processor.py\u001b[0m in \u001b[0;36mwrite_all_expired_futures_OHCL\u001b[0;34m(self, path, resolution)\u001b[0m\n\u001b[1;32m    441\u001b[0m \u001b[0;34m\u001b[0m\u001b[0m\n\u001b[1;32m    442\u001b[0m         \u001b[0;32mfor\u001b[0m \u001b[0mticker\u001b[0m \u001b[0;32min\u001b[0m \u001b[0mexpired_futures\u001b[0m\u001b[0;34m:\u001b[0m\u001b[0;34m\u001b[0m\u001b[0;34m\u001b[0m\u001b[0m\n\u001b[0;32m--> 443\u001b[0;31m             \u001b[0mexpired_future_dataframe\u001b[0m \u001b[0;34m=\u001b[0m \u001b[0mself\u001b[0m\u001b[0;34m.\u001b[0m\u001b[0mget_expired_futures_OHCL\u001b[0m\u001b[0;34m(\u001b[0m\u001b[0mmarket\u001b[0m\u001b[0;34m=\u001b[0m\u001b[0mticker\u001b[0m\u001b[0;34m,\u001b[0m \u001b[0mresolution\u001b[0m\u001b[0;34m=\u001b[0m\u001b[0mresolution\u001b[0m\u001b[0;34m)\u001b[0m\u001b[0;34m\u001b[0m\u001b[0;34m\u001b[0m\u001b[0m\n\u001b[0m\u001b[1;32m    444\u001b[0m             file_path = os.path.join(\n\u001b[1;32m    445\u001b[0m                 path, \"{}_{}_data.csv\".format(ticker, resolution))\n",
      "\u001b[0;32m~/trading_algo/crypto_trading_researches/strategy_backtests/utility_classes/historical_data_processor.py\u001b[0m in \u001b[0;36mget_expired_futures_OHCL\u001b[0;34m(self, market, resolution, start_time, end_time, limit)\u001b[0m\n\u001b[1;32m    398\u001b[0m                 \u001b[0;32mif\u001b[0m \u001b[0mticker\u001b[0m\u001b[0;34m[\u001b[0m\u001b[0;34m'name'\u001b[0m\u001b[0;34m]\u001b[0m \u001b[0;34m==\u001b[0m \u001b[0mmarket\u001b[0m\u001b[0;34m:\u001b[0m\u001b[0;34m\u001b[0m\u001b[0;34m\u001b[0m\u001b[0m\n\u001b[1;32m    399\u001b[0m                     \u001b[0mend_time\u001b[0m \u001b[0;34m=\u001b[0m \u001b[0mint\u001b[0m\u001b[0;34m(\u001b[0m\u001b[0mdp\u001b[0m\u001b[0;34m.\u001b[0m\u001b[0mparse\u001b[0m\u001b[0;34m(\u001b[0m\u001b[0mticker\u001b[0m\u001b[0;34m[\u001b[0m\u001b[0;34m'expiry'\u001b[0m\u001b[0;34m]\u001b[0m\u001b[0;34m)\u001b[0m\u001b[0;34m.\u001b[0m\u001b[0mtimestamp\u001b[0m\u001b[0;34m(\u001b[0m\u001b[0;34m)\u001b[0m\u001b[0;34m)\u001b[0m\u001b[0;34m\u001b[0m\u001b[0;34m\u001b[0m\u001b[0m\n\u001b[0;32m--> 400\u001b[0;31m         \u001b[0mres\u001b[0m \u001b[0;34m=\u001b[0m \u001b[0mself\u001b[0m\u001b[0;34m.\u001b[0m\u001b[0mget_all_OHCL\u001b[0m\u001b[0;34m(\u001b[0m\u001b[0mmarket\u001b[0m \u001b[0;34m=\u001b[0m \u001b[0mmarket\u001b[0m\u001b[0;34m,\u001b[0m \u001b[0mresolution\u001b[0m \u001b[0;34m=\u001b[0m \u001b[0mresolution\u001b[0m\u001b[0;34m,\u001b[0m \u001b[0mend_time\u001b[0m \u001b[0;34m=\u001b[0m \u001b[0mend_time\u001b[0m\u001b[0;34m)\u001b[0m\u001b[0;34m\u001b[0m\u001b[0;34m\u001b[0m\u001b[0m\n\u001b[0m\u001b[1;32m    401\u001b[0m         \u001b[0;32mreturn\u001b[0m \u001b[0mres\u001b[0m\u001b[0;34m\u001b[0m\u001b[0;34m\u001b[0m\u001b[0m\n\u001b[1;32m    402\u001b[0m \u001b[0;34m\u001b[0m\u001b[0m\n",
      "\u001b[0;32m~/trading_algo/crypto_trading_researches/strategy_backtests/utility_classes/historical_data_processor.py\u001b[0m in \u001b[0;36mget_all_OHCL\u001b[0;34m(self, market, resolution, start_time, end_time, limit)\u001b[0m\n\u001b[1;32m    362\u001b[0m         \u001b[0;32mwhile\u001b[0m \u001b[0;32mTrue\u001b[0m\u001b[0;34m:\u001b[0m\u001b[0;34m\u001b[0m\u001b[0;34m\u001b[0m\u001b[0m\n\u001b[1;32m    363\u001b[0m \u001b[0;34m\u001b[0m\u001b[0m\n\u001b[0;32m--> 364\u001b[0;31m             response = self._get(f'markets/{market}/candles', {\n\u001b[0m\u001b[1;32m    365\u001b[0m                 \u001b[0;34m'end_time'\u001b[0m\u001b[0;34m:\u001b[0m \u001b[0mend_time\u001b[0m\u001b[0;34m,\u001b[0m\u001b[0;34m\u001b[0m\u001b[0;34m\u001b[0m\u001b[0m\n\u001b[1;32m    366\u001b[0m                 \u001b[0;34m'start_time'\u001b[0m\u001b[0;34m:\u001b[0m \u001b[0mstart_time\u001b[0m\u001b[0;34m,\u001b[0m\u001b[0;34m\u001b[0m\u001b[0;34m\u001b[0m\u001b[0m\n",
      "\u001b[0;32m~/trading_algo/crypto_trading_researches/strategy_backtests/utility_classes/historical_data_processor.py\u001b[0m in \u001b[0;36m_get\u001b[0;34m(self, path, params)\u001b[0m\n\u001b[1;32m    175\u001b[0m \u001b[0;34m\u001b[0m\u001b[0m\n\u001b[1;32m    176\u001b[0m     \u001b[0;32mdef\u001b[0m \u001b[0m_get\u001b[0m\u001b[0;34m(\u001b[0m\u001b[0mself\u001b[0m\u001b[0;34m,\u001b[0m \u001b[0mpath\u001b[0m\u001b[0;34m:\u001b[0m \u001b[0mstr\u001b[0m\u001b[0;34m,\u001b[0m \u001b[0mparams\u001b[0m\u001b[0;34m:\u001b[0m \u001b[0mOptional\u001b[0m\u001b[0;34m[\u001b[0m\u001b[0mDict\u001b[0m\u001b[0;34m[\u001b[0m\u001b[0mstr\u001b[0m\u001b[0;34m,\u001b[0m \u001b[0mAny\u001b[0m\u001b[0;34m]\u001b[0m\u001b[0;34m]\u001b[0m \u001b[0;34m=\u001b[0m \u001b[0;32mNone\u001b[0m\u001b[0;34m)\u001b[0m \u001b[0;34m->\u001b[0m \u001b[0mAny\u001b[0m\u001b[0;34m:\u001b[0m\u001b[0;34m\u001b[0m\u001b[0;34m\u001b[0m\u001b[0m\n\u001b[0;32m--> 177\u001b[0;31m         \u001b[0;32mreturn\u001b[0m \u001b[0mself\u001b[0m\u001b[0;34m.\u001b[0m\u001b[0m_request\u001b[0m\u001b[0;34m(\u001b[0m\u001b[0;34m'GET'\u001b[0m\u001b[0;34m,\u001b[0m \u001b[0mpath\u001b[0m\u001b[0;34m,\u001b[0m \u001b[0mparams\u001b[0m\u001b[0;34m=\u001b[0m\u001b[0mparams\u001b[0m\u001b[0;34m)\u001b[0m\u001b[0;34m\u001b[0m\u001b[0;34m\u001b[0m\u001b[0m\n\u001b[0m\u001b[1;32m    178\u001b[0m \u001b[0;34m\u001b[0m\u001b[0m\n\u001b[1;32m    179\u001b[0m     \u001b[0;32mdef\u001b[0m \u001b[0m_post\u001b[0m\u001b[0;34m(\u001b[0m\u001b[0mself\u001b[0m\u001b[0;34m,\u001b[0m \u001b[0mpath\u001b[0m\u001b[0;34m:\u001b[0m \u001b[0mstr\u001b[0m\u001b[0;34m,\u001b[0m \u001b[0mparams\u001b[0m\u001b[0;34m:\u001b[0m \u001b[0mOptional\u001b[0m\u001b[0;34m[\u001b[0m\u001b[0mDict\u001b[0m\u001b[0;34m[\u001b[0m\u001b[0mstr\u001b[0m\u001b[0;34m,\u001b[0m \u001b[0mAny\u001b[0m\u001b[0;34m]\u001b[0m\u001b[0;34m]\u001b[0m \u001b[0;34m=\u001b[0m \u001b[0;32mNone\u001b[0m\u001b[0;34m)\u001b[0m \u001b[0;34m->\u001b[0m \u001b[0mAny\u001b[0m\u001b[0;34m:\u001b[0m\u001b[0;34m\u001b[0m\u001b[0;34m\u001b[0m\u001b[0m\n",
      "\u001b[0;32m~/trading_algo/crypto_trading_researches/strategy_backtests/utility_classes/historical_data_processor.py\u001b[0m in \u001b[0;36m_request\u001b[0;34m(self, method, path, **kwargs)\u001b[0m\n\u001b[1;32m    186\u001b[0m         \u001b[0mrequest\u001b[0m \u001b[0;34m=\u001b[0m \u001b[0mRequest\u001b[0m\u001b[0;34m(\u001b[0m\u001b[0mmethod\u001b[0m\u001b[0;34m,\u001b[0m \u001b[0mself\u001b[0m\u001b[0;34m.\u001b[0m\u001b[0m_ENDPOINT\u001b[0m \u001b[0;34m+\u001b[0m \u001b[0mpath\u001b[0m\u001b[0;34m,\u001b[0m \u001b[0;34m**\u001b[0m\u001b[0mkwargs\u001b[0m\u001b[0;34m)\u001b[0m\u001b[0;34m\u001b[0m\u001b[0;34m\u001b[0m\u001b[0m\n\u001b[1;32m    187\u001b[0m         \u001b[0mself\u001b[0m\u001b[0;34m.\u001b[0m\u001b[0m_sign_request\u001b[0m\u001b[0;34m(\u001b[0m\u001b[0mrequest\u001b[0m\u001b[0;34m)\u001b[0m\u001b[0;34m\u001b[0m\u001b[0;34m\u001b[0m\u001b[0m\n\u001b[0;32m--> 188\u001b[0;31m         \u001b[0mresponse\u001b[0m \u001b[0;34m=\u001b[0m \u001b[0mself\u001b[0m\u001b[0;34m.\u001b[0m\u001b[0m_session\u001b[0m\u001b[0;34m.\u001b[0m\u001b[0msend\u001b[0m\u001b[0;34m(\u001b[0m\u001b[0mrequest\u001b[0m\u001b[0;34m.\u001b[0m\u001b[0mprepare\u001b[0m\u001b[0;34m(\u001b[0m\u001b[0;34m)\u001b[0m\u001b[0;34m)\u001b[0m\u001b[0;34m\u001b[0m\u001b[0;34m\u001b[0m\u001b[0m\n\u001b[0m\u001b[1;32m    189\u001b[0m         \u001b[0;32mreturn\u001b[0m \u001b[0mself\u001b[0m\u001b[0;34m.\u001b[0m\u001b[0m_process_response\u001b[0m\u001b[0;34m(\u001b[0m\u001b[0mresponse\u001b[0m\u001b[0;34m)\u001b[0m\u001b[0;34m\u001b[0m\u001b[0;34m\u001b[0m\u001b[0m\n\u001b[1;32m    190\u001b[0m \u001b[0;34m\u001b[0m\u001b[0m\n",
      "\u001b[0;32m/usr/lib/python3/dist-packages/requests/sessions.py\u001b[0m in \u001b[0;36msend\u001b[0;34m(self, request, **kwargs)\u001b[0m\n\u001b[1;32m    644\u001b[0m \u001b[0;34m\u001b[0m\u001b[0m\n\u001b[1;32m    645\u001b[0m         \u001b[0;31m# Send the request\u001b[0m\u001b[0;34m\u001b[0m\u001b[0;34m\u001b[0m\u001b[0;34m\u001b[0m\u001b[0m\n\u001b[0;32m--> 646\u001b[0;31m         \u001b[0mr\u001b[0m \u001b[0;34m=\u001b[0m \u001b[0madapter\u001b[0m\u001b[0;34m.\u001b[0m\u001b[0msend\u001b[0m\u001b[0;34m(\u001b[0m\u001b[0mrequest\u001b[0m\u001b[0;34m,\u001b[0m \u001b[0;34m**\u001b[0m\u001b[0mkwargs\u001b[0m\u001b[0;34m)\u001b[0m\u001b[0;34m\u001b[0m\u001b[0;34m\u001b[0m\u001b[0m\n\u001b[0m\u001b[1;32m    647\u001b[0m \u001b[0;34m\u001b[0m\u001b[0m\n\u001b[1;32m    648\u001b[0m         \u001b[0;31m# Total elapsed time of the request (approximately)\u001b[0m\u001b[0;34m\u001b[0m\u001b[0;34m\u001b[0m\u001b[0;34m\u001b[0m\u001b[0m\n",
      "\u001b[0;32m/usr/lib/python3/dist-packages/requests/adapters.py\u001b[0m in \u001b[0;36msend\u001b[0;34m(self, request, stream, timeout, verify, cert, proxies)\u001b[0m\n\u001b[1;32m    437\u001b[0m         \u001b[0;32mtry\u001b[0m\u001b[0;34m:\u001b[0m\u001b[0;34m\u001b[0m\u001b[0;34m\u001b[0m\u001b[0m\n\u001b[1;32m    438\u001b[0m             \u001b[0;32mif\u001b[0m \u001b[0;32mnot\u001b[0m \u001b[0mchunked\u001b[0m\u001b[0;34m:\u001b[0m\u001b[0;34m\u001b[0m\u001b[0;34m\u001b[0m\u001b[0m\n\u001b[0;32m--> 439\u001b[0;31m                 resp = conn.urlopen(\n\u001b[0m\u001b[1;32m    440\u001b[0m                     \u001b[0mmethod\u001b[0m\u001b[0;34m=\u001b[0m\u001b[0mrequest\u001b[0m\u001b[0;34m.\u001b[0m\u001b[0mmethod\u001b[0m\u001b[0;34m,\u001b[0m\u001b[0;34m\u001b[0m\u001b[0;34m\u001b[0m\u001b[0m\n\u001b[1;32m    441\u001b[0m                     \u001b[0murl\u001b[0m\u001b[0;34m=\u001b[0m\u001b[0murl\u001b[0m\u001b[0;34m,\u001b[0m\u001b[0;34m\u001b[0m\u001b[0;34m\u001b[0m\u001b[0m\n",
      "\u001b[0;32m/usr/lib/python3/dist-packages/urllib3/connectionpool.py\u001b[0m in \u001b[0;36murlopen\u001b[0;34m(self, method, url, body, headers, retries, redirect, assert_same_host, timeout, pool_timeout, release_conn, chunked, body_pos, **response_kw)\u001b[0m\n\u001b[1;32m    663\u001b[0m \u001b[0;34m\u001b[0m\u001b[0m\n\u001b[1;32m    664\u001b[0m             \u001b[0;31m# Make the request on the httplib connection object.\u001b[0m\u001b[0;34m\u001b[0m\u001b[0;34m\u001b[0m\u001b[0;34m\u001b[0m\u001b[0m\n\u001b[0;32m--> 665\u001b[0;31m             httplib_response = self._make_request(\n\u001b[0m\u001b[1;32m    666\u001b[0m                 \u001b[0mconn\u001b[0m\u001b[0;34m,\u001b[0m\u001b[0;34m\u001b[0m\u001b[0;34m\u001b[0m\u001b[0m\n\u001b[1;32m    667\u001b[0m                 \u001b[0mmethod\u001b[0m\u001b[0;34m,\u001b[0m\u001b[0;34m\u001b[0m\u001b[0;34m\u001b[0m\u001b[0m\n",
      "\u001b[0;32m/usr/lib/python3/dist-packages/urllib3/connectionpool.py\u001b[0m in \u001b[0;36m_make_request\u001b[0;34m(self, conn, method, url, timeout, chunked, **httplib_request_kw)\u001b[0m\n\u001b[1;32m    419\u001b[0m                     \u001b[0;31m# Python 3 (including for exceptions like SystemExit).\u001b[0m\u001b[0;34m\u001b[0m\u001b[0;34m\u001b[0m\u001b[0;34m\u001b[0m\u001b[0m\n\u001b[1;32m    420\u001b[0m                     \u001b[0;31m# Otherwise it looks like a bug in the code.\u001b[0m\u001b[0;34m\u001b[0m\u001b[0;34m\u001b[0m\u001b[0;34m\u001b[0m\u001b[0m\n\u001b[0;32m--> 421\u001b[0;31m                     \u001b[0msix\u001b[0m\u001b[0;34m.\u001b[0m\u001b[0mraise_from\u001b[0m\u001b[0;34m(\u001b[0m\u001b[0me\u001b[0m\u001b[0;34m,\u001b[0m \u001b[0;32mNone\u001b[0m\u001b[0;34m)\u001b[0m\u001b[0;34m\u001b[0m\u001b[0;34m\u001b[0m\u001b[0m\n\u001b[0m\u001b[1;32m    422\u001b[0m         \u001b[0;32mexcept\u001b[0m \u001b[0;34m(\u001b[0m\u001b[0mSocketTimeout\u001b[0m\u001b[0;34m,\u001b[0m \u001b[0mBaseSSLError\u001b[0m\u001b[0;34m,\u001b[0m \u001b[0mSocketError\u001b[0m\u001b[0;34m)\u001b[0m \u001b[0;32mas\u001b[0m \u001b[0me\u001b[0m\u001b[0;34m:\u001b[0m\u001b[0;34m\u001b[0m\u001b[0;34m\u001b[0m\u001b[0m\n\u001b[1;32m    423\u001b[0m             \u001b[0mself\u001b[0m\u001b[0;34m.\u001b[0m\u001b[0m_raise_timeout\u001b[0m\u001b[0;34m(\u001b[0m\u001b[0merr\u001b[0m\u001b[0;34m=\u001b[0m\u001b[0me\u001b[0m\u001b[0;34m,\u001b[0m \u001b[0murl\u001b[0m\u001b[0;34m=\u001b[0m\u001b[0murl\u001b[0m\u001b[0;34m,\u001b[0m \u001b[0mtimeout_value\u001b[0m\u001b[0;34m=\u001b[0m\u001b[0mread_timeout\u001b[0m\u001b[0;34m)\u001b[0m\u001b[0;34m\u001b[0m\u001b[0;34m\u001b[0m\u001b[0m\n",
      "\u001b[0;32m/usr/lib/python3/dist-packages/six.py\u001b[0m in \u001b[0;36mraise_from\u001b[0;34m(value, from_value)\u001b[0m\n",
      "\u001b[0;32m/usr/lib/python3/dist-packages/urllib3/connectionpool.py\u001b[0m in \u001b[0;36m_make_request\u001b[0;34m(self, conn, method, url, timeout, chunked, **httplib_request_kw)\u001b[0m\n\u001b[1;32m    414\u001b[0m                 \u001b[0;31m# Python 3\u001b[0m\u001b[0;34m\u001b[0m\u001b[0;34m\u001b[0m\u001b[0;34m\u001b[0m\u001b[0m\n\u001b[1;32m    415\u001b[0m                 \u001b[0;32mtry\u001b[0m\u001b[0;34m:\u001b[0m\u001b[0;34m\u001b[0m\u001b[0;34m\u001b[0m\u001b[0m\n\u001b[0;32m--> 416\u001b[0;31m                     \u001b[0mhttplib_response\u001b[0m \u001b[0;34m=\u001b[0m \u001b[0mconn\u001b[0m\u001b[0;34m.\u001b[0m\u001b[0mgetresponse\u001b[0m\u001b[0;34m(\u001b[0m\u001b[0;34m)\u001b[0m\u001b[0;34m\u001b[0m\u001b[0;34m\u001b[0m\u001b[0m\n\u001b[0m\u001b[1;32m    417\u001b[0m                 \u001b[0;32mexcept\u001b[0m \u001b[0mBaseException\u001b[0m \u001b[0;32mas\u001b[0m \u001b[0me\u001b[0m\u001b[0;34m:\u001b[0m\u001b[0;34m\u001b[0m\u001b[0;34m\u001b[0m\u001b[0m\n\u001b[1;32m    418\u001b[0m                     \u001b[0;31m# Remove the TypeError from the exception chain in\u001b[0m\u001b[0;34m\u001b[0m\u001b[0;34m\u001b[0m\u001b[0;34m\u001b[0m\u001b[0m\n",
      "\u001b[0;32m/usr/lib/python3.9/http/client.py\u001b[0m in \u001b[0;36mgetresponse\u001b[0;34m(self)\u001b[0m\n\u001b[1;32m   1345\u001b[0m         \u001b[0;32mtry\u001b[0m\u001b[0;34m:\u001b[0m\u001b[0;34m\u001b[0m\u001b[0;34m\u001b[0m\u001b[0m\n\u001b[1;32m   1346\u001b[0m             \u001b[0;32mtry\u001b[0m\u001b[0;34m:\u001b[0m\u001b[0;34m\u001b[0m\u001b[0;34m\u001b[0m\u001b[0m\n\u001b[0;32m-> 1347\u001b[0;31m                 \u001b[0mresponse\u001b[0m\u001b[0;34m.\u001b[0m\u001b[0mbegin\u001b[0m\u001b[0;34m(\u001b[0m\u001b[0;34m)\u001b[0m\u001b[0;34m\u001b[0m\u001b[0;34m\u001b[0m\u001b[0m\n\u001b[0m\u001b[1;32m   1348\u001b[0m             \u001b[0;32mexcept\u001b[0m \u001b[0mConnectionError\u001b[0m\u001b[0;34m:\u001b[0m\u001b[0;34m\u001b[0m\u001b[0;34m\u001b[0m\u001b[0m\n\u001b[1;32m   1349\u001b[0m                 \u001b[0mself\u001b[0m\u001b[0;34m.\u001b[0m\u001b[0mclose\u001b[0m\u001b[0;34m(\u001b[0m\u001b[0;34m)\u001b[0m\u001b[0;34m\u001b[0m\u001b[0;34m\u001b[0m\u001b[0m\n",
      "\u001b[0;32m/usr/lib/python3.9/http/client.py\u001b[0m in \u001b[0;36mbegin\u001b[0;34m(self)\u001b[0m\n\u001b[1;32m    305\u001b[0m         \u001b[0;31m# read until we get a non-100 response\u001b[0m\u001b[0;34m\u001b[0m\u001b[0;34m\u001b[0m\u001b[0;34m\u001b[0m\u001b[0m\n\u001b[1;32m    306\u001b[0m         \u001b[0;32mwhile\u001b[0m \u001b[0;32mTrue\u001b[0m\u001b[0;34m:\u001b[0m\u001b[0;34m\u001b[0m\u001b[0;34m\u001b[0m\u001b[0m\n\u001b[0;32m--> 307\u001b[0;31m             \u001b[0mversion\u001b[0m\u001b[0;34m,\u001b[0m \u001b[0mstatus\u001b[0m\u001b[0;34m,\u001b[0m \u001b[0mreason\u001b[0m \u001b[0;34m=\u001b[0m \u001b[0mself\u001b[0m\u001b[0;34m.\u001b[0m\u001b[0m_read_status\u001b[0m\u001b[0;34m(\u001b[0m\u001b[0;34m)\u001b[0m\u001b[0;34m\u001b[0m\u001b[0;34m\u001b[0m\u001b[0m\n\u001b[0m\u001b[1;32m    308\u001b[0m             \u001b[0;32mif\u001b[0m \u001b[0mstatus\u001b[0m \u001b[0;34m!=\u001b[0m \u001b[0mCONTINUE\u001b[0m\u001b[0;34m:\u001b[0m\u001b[0;34m\u001b[0m\u001b[0;34m\u001b[0m\u001b[0m\n\u001b[1;32m    309\u001b[0m                 \u001b[0;32mbreak\u001b[0m\u001b[0;34m\u001b[0m\u001b[0;34m\u001b[0m\u001b[0m\n",
      "\u001b[0;32m/usr/lib/python3.9/http/client.py\u001b[0m in \u001b[0;36m_read_status\u001b[0;34m(self)\u001b[0m\n\u001b[1;32m    266\u001b[0m \u001b[0;34m\u001b[0m\u001b[0m\n\u001b[1;32m    267\u001b[0m     \u001b[0;32mdef\u001b[0m \u001b[0m_read_status\u001b[0m\u001b[0;34m(\u001b[0m\u001b[0mself\u001b[0m\u001b[0;34m)\u001b[0m\u001b[0;34m:\u001b[0m\u001b[0;34m\u001b[0m\u001b[0;34m\u001b[0m\u001b[0m\n\u001b[0;32m--> 268\u001b[0;31m         \u001b[0mline\u001b[0m \u001b[0;34m=\u001b[0m \u001b[0mstr\u001b[0m\u001b[0;34m(\u001b[0m\u001b[0mself\u001b[0m\u001b[0;34m.\u001b[0m\u001b[0mfp\u001b[0m\u001b[0;34m.\u001b[0m\u001b[0mreadline\u001b[0m\u001b[0;34m(\u001b[0m\u001b[0m_MAXLINE\u001b[0m \u001b[0;34m+\u001b[0m \u001b[0;36m1\u001b[0m\u001b[0;34m)\u001b[0m\u001b[0;34m,\u001b[0m \u001b[0;34m\"iso-8859-1\"\u001b[0m\u001b[0;34m)\u001b[0m\u001b[0;34m\u001b[0m\u001b[0;34m\u001b[0m\u001b[0m\n\u001b[0m\u001b[1;32m    269\u001b[0m         \u001b[0;32mif\u001b[0m \u001b[0mlen\u001b[0m\u001b[0;34m(\u001b[0m\u001b[0mline\u001b[0m\u001b[0;34m)\u001b[0m \u001b[0;34m>\u001b[0m \u001b[0m_MAXLINE\u001b[0m\u001b[0;34m:\u001b[0m\u001b[0;34m\u001b[0m\u001b[0;34m\u001b[0m\u001b[0m\n\u001b[1;32m    270\u001b[0m             \u001b[0;32mraise\u001b[0m \u001b[0mLineTooLong\u001b[0m\u001b[0;34m(\u001b[0m\u001b[0;34m\"status line\"\u001b[0m\u001b[0;34m)\u001b[0m\u001b[0;34m\u001b[0m\u001b[0;34m\u001b[0m\u001b[0m\n",
      "\u001b[0;32m/usr/lib/python3.9/socket.py\u001b[0m in \u001b[0;36mreadinto\u001b[0;34m(self, b)\u001b[0m\n\u001b[1;32m    702\u001b[0m         \u001b[0;32mwhile\u001b[0m \u001b[0;32mTrue\u001b[0m\u001b[0;34m:\u001b[0m\u001b[0;34m\u001b[0m\u001b[0;34m\u001b[0m\u001b[0m\n\u001b[1;32m    703\u001b[0m             \u001b[0;32mtry\u001b[0m\u001b[0;34m:\u001b[0m\u001b[0;34m\u001b[0m\u001b[0;34m\u001b[0m\u001b[0m\n\u001b[0;32m--> 704\u001b[0;31m                 \u001b[0;32mreturn\u001b[0m \u001b[0mself\u001b[0m\u001b[0;34m.\u001b[0m\u001b[0m_sock\u001b[0m\u001b[0;34m.\u001b[0m\u001b[0mrecv_into\u001b[0m\u001b[0;34m(\u001b[0m\u001b[0mb\u001b[0m\u001b[0;34m)\u001b[0m\u001b[0;34m\u001b[0m\u001b[0;34m\u001b[0m\u001b[0m\n\u001b[0m\u001b[1;32m    705\u001b[0m             \u001b[0;32mexcept\u001b[0m \u001b[0mtimeout\u001b[0m\u001b[0;34m:\u001b[0m\u001b[0;34m\u001b[0m\u001b[0;34m\u001b[0m\u001b[0m\n\u001b[1;32m    706\u001b[0m                 \u001b[0mself\u001b[0m\u001b[0;34m.\u001b[0m\u001b[0m_timeout_occurred\u001b[0m \u001b[0;34m=\u001b[0m \u001b[0;32mTrue\u001b[0m\u001b[0;34m\u001b[0m\u001b[0;34m\u001b[0m\u001b[0m\n",
      "\u001b[0;32m/usr/lib/python3/dist-packages/urllib3/contrib/pyopenssl.py\u001b[0m in \u001b[0;36mrecv_into\u001b[0;34m(self, *args, **kwargs)\u001b[0m\n\u001b[1;32m    311\u001b[0m     \u001b[0;32mdef\u001b[0m \u001b[0mrecv_into\u001b[0m\u001b[0;34m(\u001b[0m\u001b[0mself\u001b[0m\u001b[0;34m,\u001b[0m \u001b[0;34m*\u001b[0m\u001b[0margs\u001b[0m\u001b[0;34m,\u001b[0m \u001b[0;34m**\u001b[0m\u001b[0mkwargs\u001b[0m\u001b[0;34m)\u001b[0m\u001b[0;34m:\u001b[0m\u001b[0;34m\u001b[0m\u001b[0;34m\u001b[0m\u001b[0m\n\u001b[1;32m    312\u001b[0m         \u001b[0;32mtry\u001b[0m\u001b[0;34m:\u001b[0m\u001b[0;34m\u001b[0m\u001b[0;34m\u001b[0m\u001b[0m\n\u001b[0;32m--> 313\u001b[0;31m             \u001b[0;32mreturn\u001b[0m \u001b[0mself\u001b[0m\u001b[0;34m.\u001b[0m\u001b[0mconnection\u001b[0m\u001b[0;34m.\u001b[0m\u001b[0mrecv_into\u001b[0m\u001b[0;34m(\u001b[0m\u001b[0;34m*\u001b[0m\u001b[0margs\u001b[0m\u001b[0;34m,\u001b[0m \u001b[0;34m**\u001b[0m\u001b[0mkwargs\u001b[0m\u001b[0;34m)\u001b[0m\u001b[0;34m\u001b[0m\u001b[0;34m\u001b[0m\u001b[0m\n\u001b[0m\u001b[1;32m    314\u001b[0m         \u001b[0;32mexcept\u001b[0m \u001b[0mOpenSSL\u001b[0m\u001b[0;34m.\u001b[0m\u001b[0mSSL\u001b[0m\u001b[0;34m.\u001b[0m\u001b[0mSysCallError\u001b[0m \u001b[0;32mas\u001b[0m \u001b[0me\u001b[0m\u001b[0;34m:\u001b[0m\u001b[0;34m\u001b[0m\u001b[0;34m\u001b[0m\u001b[0m\n\u001b[1;32m    315\u001b[0m             \u001b[0;32mif\u001b[0m \u001b[0mself\u001b[0m\u001b[0;34m.\u001b[0m\u001b[0msuppress_ragged_eofs\u001b[0m \u001b[0;32mand\u001b[0m \u001b[0me\u001b[0m\u001b[0;34m.\u001b[0m\u001b[0margs\u001b[0m \u001b[0;34m==\u001b[0m \u001b[0;34m(\u001b[0m\u001b[0;34m-\u001b[0m\u001b[0;36m1\u001b[0m\u001b[0;34m,\u001b[0m \u001b[0;34m\"Unexpected EOF\"\u001b[0m\u001b[0;34m)\u001b[0m\u001b[0;34m:\u001b[0m\u001b[0;34m\u001b[0m\u001b[0;34m\u001b[0m\u001b[0m\n",
      "\u001b[0;32m/usr/lib/python3/dist-packages/OpenSSL/SSL.py\u001b[0m in \u001b[0;36mrecv_into\u001b[0;34m(self, buffer, nbytes, flags)\u001b[0m\n\u001b[1;32m   1819\u001b[0m             \u001b[0mresult\u001b[0m \u001b[0;34m=\u001b[0m \u001b[0m_lib\u001b[0m\u001b[0;34m.\u001b[0m\u001b[0mSSL_peek\u001b[0m\u001b[0;34m(\u001b[0m\u001b[0mself\u001b[0m\u001b[0;34m.\u001b[0m\u001b[0m_ssl\u001b[0m\u001b[0;34m,\u001b[0m \u001b[0mbuf\u001b[0m\u001b[0;34m,\u001b[0m \u001b[0mnbytes\u001b[0m\u001b[0;34m)\u001b[0m\u001b[0;34m\u001b[0m\u001b[0;34m\u001b[0m\u001b[0m\n\u001b[1;32m   1820\u001b[0m         \u001b[0;32melse\u001b[0m\u001b[0;34m:\u001b[0m\u001b[0;34m\u001b[0m\u001b[0;34m\u001b[0m\u001b[0m\n\u001b[0;32m-> 1821\u001b[0;31m             \u001b[0mresult\u001b[0m \u001b[0;34m=\u001b[0m \u001b[0m_lib\u001b[0m\u001b[0;34m.\u001b[0m\u001b[0mSSL_read\u001b[0m\u001b[0;34m(\u001b[0m\u001b[0mself\u001b[0m\u001b[0;34m.\u001b[0m\u001b[0m_ssl\u001b[0m\u001b[0;34m,\u001b[0m \u001b[0mbuf\u001b[0m\u001b[0;34m,\u001b[0m \u001b[0mnbytes\u001b[0m\u001b[0;34m)\u001b[0m\u001b[0;34m\u001b[0m\u001b[0;34m\u001b[0m\u001b[0m\n\u001b[0m\u001b[1;32m   1822\u001b[0m         \u001b[0mself\u001b[0m\u001b[0;34m.\u001b[0m\u001b[0m_raise_ssl_error\u001b[0m\u001b[0;34m(\u001b[0m\u001b[0mself\u001b[0m\u001b[0;34m.\u001b[0m\u001b[0m_ssl\u001b[0m\u001b[0;34m,\u001b[0m \u001b[0mresult\u001b[0m\u001b[0;34m)\u001b[0m\u001b[0;34m\u001b[0m\u001b[0;34m\u001b[0m\u001b[0m\n\u001b[1;32m   1823\u001b[0m \u001b[0;34m\u001b[0m\u001b[0m\n",
      "\u001b[0;31mKeyboardInterrupt\u001b[0m: "
     ]
    }
   ],
   "source": [
    "acc.write_all_expired_futures_OHCL(path='/home/harry/trading_algo/crypto_trading_researches/strategy_backtests/historical_data')"
   ]
  }
 ]
}