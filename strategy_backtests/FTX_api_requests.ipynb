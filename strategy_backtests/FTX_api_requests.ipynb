{
 "metadata": {
  "language_info": {
   "codemirror_mode": {
    "name": "ipython",
    "version": 3
   },
   "file_extension": ".py",
   "mimetype": "text/x-python",
   "name": "python",
   "nbconvert_exporter": "python",
   "pygments_lexer": "ipython3",
   "version": "3.9.0-final"
  },
  "orig_nbformat": 2,
  "kernelspec": {
   "name": "python3",
   "display_name": "Python 3.9.0 64-bit",
   "metadata": {
    "interpreter": {
     "hash": "f9f85f796d01129d0dd105a088854619f454435301f6ffec2fea96ecbd9be4ac"
    }
   }
  }
 },
 "nbformat": 4,
 "nbformat_minor": 2,
 "cells": [
  {
   "cell_type": "code",
   "execution_count": 14,
   "metadata": {},
   "outputs": [],
   "source": [
    "from keys import FTX_API_KEY, FTX_API_SECRET\n",
    "from datetime import datetime\n",
    "import time\n",
    "import hmac\n",
    "from requests import Request, Session, Response\n",
    "\n",
    "class FtxClient:\n",
    "\n",
    "\n",
    "    def __init__(self, api_key=None, api_secret=None, subaccount_name=None):\n",
    "            self._session = Session()\n",
    "            self._api_key = api_key\n",
    "            self._api_secret = api_secret\n",
    "            self._subaccount_name = subaccount_name\n",
    "            self._ENDPOINT = 'https://ftx.com/api/'\n",
    "\n",
    "\n",
    "    def sign_request(self, request: Request):\n",
    "        ts = int(time.time() * 1000)\n",
    "        request = Request('GET', self._ENDPOINT)\n",
    "        prepared = request.prepare()\n",
    "        print(prepared)\n",
    "        signature_payload = f'{ts}{prepared.method}{prepared.path_url}'.encode()\n",
    "        signature = hmac.new(self._api_secret.encode(), signature_payload, 'sha256').hexdigest()\n",
    "\n",
    "        request.headers['FTX-KEY'] = self._api_key\n",
    "        request.headers['FTX-SIGN'] = signature\n",
    "        request.headers['FTX-TS'] = str(ts)\n",
    "\n",
    "    def send_request(self, method: str, path: str, **kwargs):\n",
    "        request = Request(method, self._ENDPOINT + path, **kwargs)\n",
    "        self.sign_request(request)\n",
    "        response = self._session.send(request.prepare())\n",
    "        return self._process_response(response)\n",
    "\n",
    "    def _process_response(self, response: Response):\n",
    "        try:\n",
    "            data = response.json()\n",
    "        except ValueError:\n",
    "            response.raise_for_status()\n",
    "            raise\n",
    "        else:\n",
    "            if not data['success']:\n",
    "                raise Exception(data['error'])\n",
    "            return data['result']\n",
    "    \n",
    "    def get_all_trades(self, market: str, start_time: float = None, end_time: float = None) -> List:\n",
    "        ids = set()\n",
    "        limit = 100\n",
    "        results = []\n",
    "        while True:\n",
    "            response = self._get(f'markets/{market}/trades', {\n",
    "                'end_time': end_time,\n",
    "                'start_time': start_time,\n",
    "            })\n",
    "            deduped_trades = [r for r in response if r['id'] not in ids]\n",
    "            results.extend(deduped_trades)\n",
    "            ids |= {r['id'] for r in deduped_trades}\n",
    "            print(f'Adding {len(response)} trades with end time {end_time}')\n",
    "            if len(response) == 0:\n",
    "                break\n",
    "            end_time = min(parse_datetime(t['time']) for t in response).timestamp()\n",
    "            if len(response) < limit:\n",
    "                break\n",
    "        return results\n"
   ]
  },
  {
   "cell_type": "code",
   "execution_count": 49,
   "metadata": {
    "tags": []
   },
   "outputs": [
    {
     "output_type": "stream",
     "name": "stdout",
     "text": [
      "<PreparedRequest [GET]>\n",
      "[{'close': 56810.0, 'high': 56813.0, 'low': 56804.0, 'open': 56804.0, 'startTime': '2021-03-12T04:53:00+00:00', 'time': 1615524780000.0, 'volume': 104218.2922}, {'close': 56827.0, 'high': 56827.0, 'low': 56810.0, 'open': 56810.0, 'startTime': '2021-03-12T04:53:15+00:00', 'time': 1615524795000.0, 'volume': 65427.5932}, {'close': 56820.0, 'high': 56835.0, 'low': 56814.0, 'open': 56827.0, 'startTime': '2021-03-12T04:53:30+00:00', 'time': 1615524810000.0, 'volume': 87843.6914}, {'close': 56817.0, 'high': 56831.0, 'low': 56815.0, 'open': 56820.0, 'startTime': '2021-03-12T04:53:45+00:00', 'time': 1615524825000.0, 'volume': 73576.3629}, {'close': 56830.0, 'high': 56830.0, 'low': 56817.0, 'open': 56817.0, 'startTime': '2021-03-12T04:54:00+00:00', 'time': 1615524840000.0, 'volume': 926.1438}, {'close': 56849.0, 'high': 56849.0, 'low': 56830.0, 'open': 56830.0, 'startTime': '2021-03-12T04:54:15+00:00', 'time': 1615524855000.0, 'volume': 134595.6102}, {'close': 56785.0, 'high': 56863.0, 'low': 56785.0, 'open': 56849.0, 'startTime': '2021-03-12T04:54:30+00:00', 'time': 1615524870000.0, 'volume': 1334697.1331}, {'close': 56796.0, 'high': 56799.0, 'low': 56765.0, 'open': 56785.0, 'startTime': '2021-03-12T04:54:45+00:00', 'time': 1615524885000.0, 'volume': 655020.3755}, {'close': 56760.0, 'high': 56808.0, 'low': 56760.0, 'open': 56796.0, 'startTime': '2021-03-12T04:55:00+00:00', 'time': 1615524900000.0, 'volume': 151814.8399}, {'close': 56756.0, 'high': 56760.0, 'low': 56731.0, 'open': 56760.0, 'startTime': '2021-03-12T04:55:15+00:00', 'time': 1615524915000.0, 'volume': 450379.7954}]\n"
     ]
    }
   ],
   "source": [
    "dt = datetime(2020, 1, 1).timestamp()\n",
    "acc = FtxClient(api_key=FTX_API_KEY, api_secret=FTX_API_SECRET)\n",
    "res = acc.send_request('GET', 'markets/BTC-PERP/candles?resolution=15&limit=10')\n",
    "\n",
    "print(res)"
   ]
  },
  {
   "cell_type": "code",
   "execution_count": 44,
   "metadata": {},
   "outputs": [],
   "source": [
    "import requests\n",
    "ENDPOINT='https://ftx.com/api'\n",
    "res = requests.get(ENDPOINT+'markets/futures/BTC-PERP/candles?resolution={60}&limit={500}')\n"
   ]
  }
 ]
}