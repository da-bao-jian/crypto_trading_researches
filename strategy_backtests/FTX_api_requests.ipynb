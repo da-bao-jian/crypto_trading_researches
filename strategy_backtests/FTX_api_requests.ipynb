{
 "metadata": {
  "language_info": {
   "codemirror_mode": {
    "name": "ipython",
    "version": 3
   },
   "file_extension": ".py",
   "mimetype": "text/x-python",
   "name": "python",
   "nbconvert_exporter": "python",
   "pygments_lexer": "ipython3",
   "version": "3.9.0-final"
  },
  "orig_nbformat": 2,
  "kernelspec": {
   "name": "python3",
   "display_name": "Python 3.9.0 64-bit",
   "metadata": {
    "interpreter": {
     "hash": "f9f85f796d01129d0dd105a088854619f454435301f6ffec2fea96ecbd9be4ac"
    }
   }
  }
 },
 "nbformat": 4,
 "nbformat_minor": 2,
 "cells": [
  {
   "cell_type": "code",
   "execution_count": 4,
   "metadata": {},
   "outputs": [],
   "source": [
    "from keys import FTX_API_KEY, FTX_API_SECRET\n",
    "from datetime import datetime\n",
    "import time\n",
    "import hmac\n",
    "import pandas as pd\n",
    "from requests import Request, Session, Response\n",
    "\n",
    "class FtxClient:\n",
    "\n",
    "\n",
    "    def __init__(self, api_key=None, api_secret=None, subaccount_name=None):\n",
    "            self._session = Session()\n",
    "            self._api_key = api_key\n",
    "            self._api_secret = api_secret\n",
    "            self._subaccount_name = subaccount_name\n",
    "            self._ENDPOINT = 'https://ftx.com/api/'\n",
    "\n",
    "\n",
    "    def sign_request(self, request: Request):\n",
    "        ts = int(time.time() * 1000)\n",
    "        request = Request('GET', self._ENDPOINT)\n",
    "        prepared = request.prepare()\n",
    "        print(prepared)\n",
    "        signature_payload = f'{ts}{prepared.method}{prepared.path_url}'.encode()\n",
    "        signature = hmac.new(self._api_secret.encode(), signature_payload, 'sha256').hexdigest()\n",
    "\n",
    "        request.headers['FTX-KEY'] = self._api_key\n",
    "        request.headers['FTX-SIGN'] = signature\n",
    "        request.headers['FTX-TS'] = str(ts)\n",
    "\n",
    "    def send_request(self, method: str, path: str, **kwargs):\n",
    "        request = Request(method, self._ENDPOINT + path, **kwargs)\n",
    "        self.sign_request(request)\n",
    "        response = self._session.send(request.prepare())\n",
    "        return self._process_response(response)\n",
    "\n",
    "    def _process_response(self, response: Response):\n",
    "        try:\n",
    "            data = response.json()\n",
    "        except ValueError:\n",
    "            response.raise_for_status()\n",
    "            raise\n",
    "        else:\n",
    "            if not data['success']:\n",
    "                raise Exception(data['error'])\n",
    "            return data['result']\n",
    "    \n",
    "    def get_all_trades(self, market: str, start_time: float = None, end_time: float = None):\n",
    "        ids = set()\n",
    "        limit = 100\n",
    "        results = []\n",
    "        while True:\n",
    "            response = self._get(f'markets/{market}/trades', {\n",
    "                'end_time': end_time,\n",
    "                'start_time': start_time,\n",
    "            })\n",
    "            deduped_trades = [r for r in response if r['id'] not in ids]\n",
    "            results.extend(deduped_trades)\n",
    "            ids |= {r['id'] for r in deduped_trades}\n",
    "            print(f'Adding {len(response)} trades with end time {end_time}')\n",
    "            if len(response) == 0:\n",
    "                break\n",
    "            end_time = min(parse_datetime(t['time']) for t in response).timestamp()\n",
    "            if len(response) < limit:\n",
    "                break\n",
    "        return results\n"
   ]
  },
  {
   "cell_type": "code",
   "execution_count": 9,
   "metadata": {
    "tags": []
   },
   "outputs": [
    {
     "output_type": "stream",
     "name": "stdout",
     "text": [
      "<PreparedRequest [GET]>\n",
      "     close     high      low     open                  startTime  \\\n",
      "0  56791.0  56792.0  56787.0  56788.0  2021-03-12T05:04:15+00:00   \n",
      "1  56794.0  56794.0  56787.0  56791.0  2021-03-12T05:04:30+00:00   \n",
      "2  56808.0  56808.0  56789.0  56794.0  2021-03-12T05:04:45+00:00   \n",
      "3  56846.0  56848.0  56808.0  56808.0  2021-03-12T05:05:00+00:00   \n",
      "4  56863.0  56864.0  56840.0  56848.0  2021-03-12T05:05:15+00:00   \n",
      "5  56857.0  56912.0  56855.0  56863.0  2021-03-12T05:05:30+00:00   \n",
      "6  56900.0  56905.0  56857.0  56857.0  2021-03-12T05:05:45+00:00   \n",
      "7  56887.0  56907.0  56887.0  56900.0  2021-03-12T05:06:00+00:00   \n",
      "8  56877.0  56887.0  56851.0  56887.0  2021-03-12T05:06:15+00:00   \n",
      "9  56867.0  56877.0  56867.0  56877.0  2021-03-12T05:06:30+00:00   \n",
      "\n",
      "           time        volume  \n",
      "0  1.615525e+12  9.480976e+04  \n",
      "1  1.615525e+12  1.227743e+04  \n",
      "2  1.615525e+12  1.068108e+05  \n",
      "3  1.615526e+12  9.232214e+04  \n",
      "4  1.615526e+12  2.535592e+05  \n",
      "5  1.615526e+12  1.181210e+06  \n",
      "6  1.615526e+12  2.424468e+05  \n",
      "7  1.615526e+12  1.731650e+05  \n",
      "8  1.615526e+12  3.978884e+05  \n",
      "9  1.615526e+12  2.077009e+04  \n"
     ]
    }
   ],
   "source": [
    "import json\n",
    "\n",
    "dt = datetime(2020, 1, 1).timestamp()\n",
    "acc = FtxClient(api_key=FTX_API_KEY, api_secret=FTX_API_SECRET)\n",
    "res = acc.send_request('GET', 'markets/BTC-PERP/candles?resolution=15&limit=10')\n",
    "df = pd.DataFrame(res)\n",
    "print(df)"
   ]
  },
  {
   "cell_type": "code",
   "execution_count": 44,
   "metadata": {},
   "outputs": [],
   "source": [
    "\n"
   ]
  }
 ]
}