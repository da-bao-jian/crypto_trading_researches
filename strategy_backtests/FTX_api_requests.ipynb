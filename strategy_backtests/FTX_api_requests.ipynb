{
 "metadata": {
  "language_info": {
   "codemirror_mode": {
    "name": "ipython",
    "version": 3
   },
   "file_extension": ".py",
   "mimetype": "text/x-python",
   "name": "python",
   "nbconvert_exporter": "python",
   "pygments_lexer": "ipython3",
   "version": "3.9.0-final"
  },
  "orig_nbformat": 2,
  "kernelspec": {
   "name": "python3",
   "display_name": "Python 3.9.0 64-bit",
   "metadata": {
    "interpreter": {
     "hash": "f9f85f796d01129d0dd105a088854619f454435301f6ffec2fea96ecbd9be4ac"
    }
   }
  }
 },
 "nbformat": 4,
 "nbformat_minor": 2,
 "cells": [
  {
   "cell_type": "code",
   "execution_count": 3,
   "metadata": {},
   "outputs": [],
   "source": [
    "from keys import FTX_API_KEY, FTX_API_SECRET\n",
    "from datetime import datetime\n",
    "import time\n",
    "import hmac\n",
    "from requests import Request, Session, Response\n",
    "\n",
    "class FtxClient:\n",
    "\n",
    "\n",
    "    def __init__(self, api_key=None, api_secret=None, subaccount_name=None):\n",
    "            self._session = Session()\n",
    "            self._api_key = api_key\n",
    "            self._api_secret = api_secret\n",
    "            self._subaccount_name = subaccount_name\n",
    "            self._ENDPOINT = 'https://ftx.com/api/'\n",
    "\n",
    "\n",
    "    def sign_request(self, request: Request):\n",
    "        ts = int(time.time() * 1000)\n",
    "        request = Request('GET', self._ENDPOINT)\n",
    "        prepared = request.prepare()\n",
    "        print(prepared)\n",
    "        signature_payload = f'{ts}{prepared.method}{prepared.path_url}'.encode()\n",
    "        signature = hmac.new(self._api_secret.encode(), signature_payload, 'sha256').hexdigest()\n",
    "\n",
    "        request.headers['FTX-KEY'] = self._api_key\n",
    "        request.headers['FTX-SIGN'] = signature\n",
    "        request.headers['FTX-TS'] = str(ts)\n",
    "\n",
    "    def send_request(self, method: str, path: str, **kwargs):\n",
    "        request = Request(method, self._ENDPOINT + path, **kwargs)\n",
    "        self.sign_request(request)\n",
    "        response = self._session.send(request.prepare())\n",
    "        return self._process_response(response)\n",
    "\n",
    "    def _process_response(self, response: Response):\n",
    "        try:\n",
    "            data = response.json()\n",
    "        except ValueError:\n",
    "            response.raise_for_status()\n",
    "            raise\n",
    "        else:\n",
    "            if not data['success']:\n",
    "                raise Exception(data['error'])\n",
    "            return data['result']\n",
    "\n"
   ]
  },
  {
   "cell_type": "code",
   "execution_count": 9,
   "metadata": {},
   "outputs": [
    {
     "output_type": "stream",
     "name": "stdout",
     "text": [
      "<PreparedRequest [GET]>\n"
     ]
    },
    {
     "output_type": "execute_result",
     "data": {
      "text/plain": [
       "{'ask': 57746.0,\n",
       " 'bid': 57745.0,\n",
       " 'change1h': 0.0033185648510120755,\n",
       " 'change24h': 0.02060798868858254,\n",
       " 'changeBod': 0.03485600616476407,\n",
       " 'description': 'Bitcoin Perpetual Futures',\n",
       " 'enabled': True,\n",
       " 'expired': False,\n",
       " 'expiry': None,\n",
       " 'expiryDescription': 'Perpetual',\n",
       " 'group': 'perpetual',\n",
       " 'imfFactor': 0.002,\n",
       " 'index': 57641.21987948,\n",
       " 'last': 57761.0,\n",
       " 'lowerBound': 54760.0,\n",
       " 'marginPrice': 57746.0,\n",
       " 'mark': 57746.0,\n",
       " 'moveStart': None,\n",
       " 'name': 'BTC-PERP',\n",
       " 'perpetual': True,\n",
       " 'positionLimitWeight': 1.0,\n",
       " 'postOnly': False,\n",
       " 'priceIncrement': 1.0,\n",
       " 'sizeIncrement': 0.0001,\n",
       " 'type': 'perpetual',\n",
       " 'underlying': 'BTC',\n",
       " 'underlyingDescription': 'Bitcoin',\n",
       " 'upperBound': 60608.0,\n",
       " 'volume': 80404.4076,\n",
       " 'volumeUsd24h': 4528467605.3702}"
      ]
     },
     "metadata": {},
     "execution_count": 9
    }
   ],
   "source": [
    "acc = FtxClient(api_key=FTX_API_KEY, api_secret=FTX_API_SECRET)\n",
    "acc.send_request('Get', '/futures/BTC-PERP')"
   ]
  }
 ]
}