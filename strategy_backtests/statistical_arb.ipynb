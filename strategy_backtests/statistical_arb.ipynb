{
 "metadata": {
  "language_info": {
   "codemirror_mode": {
    "name": "ipython",
    "version": 3
   },
   "file_extension": ".py",
   "mimetype": "text/x-python",
   "name": "python",
   "nbconvert_exporter": "python",
   "pygments_lexer": "ipython3",
   "version": "3.9.0-final"
  },
  "orig_nbformat": 2,
  "kernelspec": {
   "name": "python3",
   "display_name": "Python 3.9.0 64-bit",
   "metadata": {
    "interpreter": {
     "hash": "f9f85f796d01129d0dd105a088854619f454435301f6ffec2fea96ecbd9be4ac"
    }
   }
  }
 },
 "nbformat": 4,
 "nbformat_minor": 2,
 "cells": [
  {
   "source": [
    "## Get all historical spread data \n",
    "## Perform Pearson Coefficient to find Correlation\n",
    "## Perform Stationary Test\n",
    "## Generate signal using z-score\n"
   ],
   "cell_type": "markdown",
   "metadata": {}
  },
  {
   "cell_type": "code",
   "execution_count": 14,
   "metadata": {
    "tags": []
   },
   "outputs": [
    {
     "output_type": "stream",
     "name": "stdout",
     "text": [
      "500\n"
     ]
    }
   ],
   "source": [
    "from keys import FTX_API_KEY, FTX_API_SECRET\n",
    "from utility_classes.historical_data_processor import FTXDataProcessor\n",
    "acc = FTXDataProcessor(api_key=FTX_API_KEY, api_secret=FTX_API_SECRET)\n",
    "funding = acc._get('/funding_rates', 'future=BTC-PERP')\n",
    "print(len(funding))"
   ]
  },
  {
   "cell_type": "code",
   "execution_count": 15,
   "metadata": {},
   "outputs": [
    {
     "output_type": "execute_result",
     "data": {
      "text/plain": [
       "'PERP'"
      ]
     },
     "metadata": {},
     "execution_count": 15
    }
   ],
   "source": [
    "a='adf-PERP'\n",
    "a[-4:]"
   ]
  }
 ]
}