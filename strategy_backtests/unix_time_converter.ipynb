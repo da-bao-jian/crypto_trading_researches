{
 "metadata": {
  "language_info": {
   "codemirror_mode": {
    "name": "ipython",
    "version": 3
   },
   "file_extension": ".py",
   "mimetype": "text/x-python",
   "name": "python",
   "nbconvert_exporter": "python",
   "pygments_lexer": "ipython3",
   "version": "3.9.0-final"
  },
  "orig_nbformat": 2,
  "kernelspec": {
   "name": "python3",
   "display_name": "Python 3.9.0 64-bit",
   "metadata": {
    "interpreter": {
     "hash": "f9f85f796d01129d0dd105a088854619f454435301f6ffec2fea96ecbd9be4ac"
    }
   }
  }
 },
 "nbformat": 4,
 "nbformat_minor": 2,
 "cells": [
  {
   "cell_type": "code",
   "execution_count": 7,
   "metadata": {},
   "outputs": [],
   "source": [
    "from datetime import datetime\n",
    "import pandas as pd\n",
    "import time\n",
    "def timestamp_to_unix(year, month, day):\n",
    "    return datetime(year, month, day).timestamp()\n",
    "\n",
    "def unix_to_timestamp(uni):\n",
    "    return datetime.fromtimestamp(uni)"
   ]
  },
  {
   "cell_type": "code",
   "execution_count": 4,
   "metadata": {},
   "outputs": [
    {
     "output_type": "execute_result",
     "data": {
      "text/plain": [
       "1588737600.0"
      ]
     },
     "metadata": {},
     "execution_count": 4
    }
   ],
   "source": [
    "timestamp_to_unix(2020, 5, 6)\n"
   ]
  },
  {
   "cell_type": "code",
   "execution_count": 6,
   "metadata": {},
   "outputs": [
    {
     "output_type": "execute_result",
     "data": {
      "text/plain": [
       "datetime.datetime(2019, 6, 7, 0, 28, 31)"
      ]
     },
     "metadata": {},
     "execution_count": 6
    }
   ],
   "source": [
    "unix_to_timestamp(1559881711)\n"
   ]
  },
  {
   "cell_type": "code",
   "execution_count": 11,
   "metadata": {},
   "outputs": [
    {
     "output_type": "execute_result",
     "data": {
      "text/plain": [
       "                        timestamp  perp_volume  funding_rate  fut_volume  \\\n",
       "0       2020-06-08T06:22:00+00:00      0.00000      0.000013       0.000   \n",
       "1       2020-06-08T06:23:00+00:00      0.00000      0.000013       0.000   \n",
       "2       2020-06-08T06:24:00+00:00      0.00000      0.000013    2924.256   \n",
       "3       2020-06-08T06:25:00+00:00      0.00000      0.000013    2874.160   \n",
       "4       2020-06-08T06:26:00+00:00      0.00000      0.000013    2477.182   \n",
       "...                           ...          ...           ...         ...   \n",
       "156706  2020-09-25T02:55:00+00:00      0.38193      0.000000       0.000   \n",
       "156707  2020-09-25T02:56:00+00:00  19092.19098      0.000000     694.180   \n",
       "156708  2020-09-25T02:57:00+00:00      0.38193      0.000000       0.000   \n",
       "156709  2020-09-25T02:58:00+00:00      0.57302      0.000000       0.000   \n",
       "156710  2020-09-25T02:59:00+00:00     27.72344      0.000000     416.194   \n",
       "\n",
       "        spread_open  spread_high  spread_low  spread_close  perp_funding_rate  \n",
       "0         -1.579163    -1.579659   -1.573011     -1.567366          -0.000011  \n",
       "1         -1.565317    -1.562820   -1.553470     -1.556675          -0.000011  \n",
       "2         -1.523903    -1.523841   -1.524278     -1.528313          -0.000011  \n",
       "3         -1.528313    -1.532410   -1.528814     -1.532598          -0.000011  \n",
       "4         -1.557569    -1.536759   -1.528939     -1.524653          -0.000011  \n",
       "...             ...          ...         ...           ...                ...  \n",
       "156706     0.034567     0.129481   -0.002882      0.023043           0.000048  \n",
       "156707     0.023043     0.060466    0.023043      0.060466           0.000048  \n",
       "156708     0.060466     0.060466    0.054720      0.057599           0.000048  \n",
       "156709     0.054720     0.054720    0.043235      0.074917           0.000048  \n",
       "156710     0.077796     0.135345    0.014416      0.115211           0.000048  \n",
       "\n",
       "[156711 rows x 9 columns]"
      ],
      "text/html": "<div>\n<style scoped>\n    .dataframe tbody tr th:only-of-type {\n        vertical-align: middle;\n    }\n\n    .dataframe tbody tr th {\n        vertical-align: top;\n    }\n\n    .dataframe thead th {\n        text-align: right;\n    }\n</style>\n<table border=\"1\" class=\"dataframe\">\n  <thead>\n    <tr style=\"text-align: right;\">\n      <th></th>\n      <th>timestamp</th>\n      <th>perp_volume</th>\n      <th>funding_rate</th>\n      <th>fut_volume</th>\n      <th>spread_open</th>\n      <th>spread_high</th>\n      <th>spread_low</th>\n      <th>spread_close</th>\n      <th>perp_funding_rate</th>\n    </tr>\n  </thead>\n  <tbody>\n    <tr>\n      <th>0</th>\n      <td>2020-06-08T06:22:00+00:00</td>\n      <td>0.00000</td>\n      <td>0.000013</td>\n      <td>0.000</td>\n      <td>-1.579163</td>\n      <td>-1.579659</td>\n      <td>-1.573011</td>\n      <td>-1.567366</td>\n      <td>-0.000011</td>\n    </tr>\n    <tr>\n      <th>1</th>\n      <td>2020-06-08T06:23:00+00:00</td>\n      <td>0.00000</td>\n      <td>0.000013</td>\n      <td>0.000</td>\n      <td>-1.565317</td>\n      <td>-1.562820</td>\n      <td>-1.553470</td>\n      <td>-1.556675</td>\n      <td>-0.000011</td>\n    </tr>\n    <tr>\n      <th>2</th>\n      <td>2020-06-08T06:24:00+00:00</td>\n      <td>0.00000</td>\n      <td>0.000013</td>\n      <td>2924.256</td>\n      <td>-1.523903</td>\n      <td>-1.523841</td>\n      <td>-1.524278</td>\n      <td>-1.528313</td>\n      <td>-0.000011</td>\n    </tr>\n    <tr>\n      <th>3</th>\n      <td>2020-06-08T06:25:00+00:00</td>\n      <td>0.00000</td>\n      <td>0.000013</td>\n      <td>2874.160</td>\n      <td>-1.528313</td>\n      <td>-1.532410</td>\n      <td>-1.528814</td>\n      <td>-1.532598</td>\n      <td>-0.000011</td>\n    </tr>\n    <tr>\n      <th>4</th>\n      <td>2020-06-08T06:26:00+00:00</td>\n      <td>0.00000</td>\n      <td>0.000013</td>\n      <td>2477.182</td>\n      <td>-1.557569</td>\n      <td>-1.536759</td>\n      <td>-1.528939</td>\n      <td>-1.524653</td>\n      <td>-0.000011</td>\n    </tr>\n    <tr>\n      <th>...</th>\n      <td>...</td>\n      <td>...</td>\n      <td>...</td>\n      <td>...</td>\n      <td>...</td>\n      <td>...</td>\n      <td>...</td>\n      <td>...</td>\n      <td>...</td>\n    </tr>\n    <tr>\n      <th>156706</th>\n      <td>2020-09-25T02:55:00+00:00</td>\n      <td>0.38193</td>\n      <td>0.000000</td>\n      <td>0.000</td>\n      <td>0.034567</td>\n      <td>0.129481</td>\n      <td>-0.002882</td>\n      <td>0.023043</td>\n      <td>0.000048</td>\n    </tr>\n    <tr>\n      <th>156707</th>\n      <td>2020-09-25T02:56:00+00:00</td>\n      <td>19092.19098</td>\n      <td>0.000000</td>\n      <td>694.180</td>\n      <td>0.023043</td>\n      <td>0.060466</td>\n      <td>0.023043</td>\n      <td>0.060466</td>\n      <td>0.000048</td>\n    </tr>\n    <tr>\n      <th>156708</th>\n      <td>2020-09-25T02:57:00+00:00</td>\n      <td>0.38193</td>\n      <td>0.000000</td>\n      <td>0.000</td>\n      <td>0.060466</td>\n      <td>0.060466</td>\n      <td>0.054720</td>\n      <td>0.057599</td>\n      <td>0.000048</td>\n    </tr>\n    <tr>\n      <th>156709</th>\n      <td>2020-09-25T02:58:00+00:00</td>\n      <td>0.57302</td>\n      <td>0.000000</td>\n      <td>0.000</td>\n      <td>0.054720</td>\n      <td>0.054720</td>\n      <td>0.043235</td>\n      <td>0.074917</td>\n      <td>0.000048</td>\n    </tr>\n    <tr>\n      <th>156710</th>\n      <td>2020-09-25T02:59:00+00:00</td>\n      <td>27.72344</td>\n      <td>0.000000</td>\n      <td>416.194</td>\n      <td>0.077796</td>\n      <td>0.135345</td>\n      <td>0.014416</td>\n      <td>0.115211</td>\n      <td>0.000048</td>\n    </tr>\n  </tbody>\n</table>\n<p>156711 rows × 9 columns</p>\n</div>"
     },
     "metadata": {},
     "execution_count": 11
    }
   ],
   "source": [
    "pd.read_csv('/home/harry/trading_algo/crypto_trading_researches/strategy_backtests/historical_data/all_spreads/ETH-0925_spread_data.csv')"
   ]
  }
 ]
}